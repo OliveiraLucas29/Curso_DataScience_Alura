{
 "cells": [
  {
   "cell_type": "markdown",
   "id": "3c7bc349",
   "metadata": {},
   "source": [
    "# Relatório IV"
   ]
  },
  {
   "cell_type": "markdown",
   "id": "b1b74121",
   "metadata": {},
   "source": [
    "## Análise dos imóveis residencias com objetivo de extrair os seguintes dados:\n",
    "\n",
    "1) Quantidade de imóveis classificados com o tipo 'Apartamento'.\n",
    "\n",
    "2) Quantidade de imóveis classificados com os tipos 'Casa', 'Casa de Condomínio' e 'Casa de Vila'.\n",
    "\n",
    "3) Quantidade de imóveis com área entre 60 e 100 metros quadrados, incluindo os limites.\n",
    "\n",
    "4) Quantidade de imóveis que tenham pelo menos quatro quartos e aluguel menor que R$ 2.000,00."
   ]
  },
  {
   "cell_type": "markdown",
   "id": "985fc928",
   "metadata": {},
   "source": [
    "### Importação do pandas e da base de dados"
   ]
  },
  {
   "cell_type": "code",
   "execution_count": 6,
   "id": "285ed825",
   "metadata": {},
   "outputs": [
    {
     "data": {
      "text/html": [
       "<div>\n",
       "<style scoped>\n",
       "    .dataframe tbody tr th:only-of-type {\n",
       "        vertical-align: middle;\n",
       "    }\n",
       "\n",
       "    .dataframe tbody tr th {\n",
       "        vertical-align: top;\n",
       "    }\n",
       "\n",
       "    .dataframe thead th {\n",
       "        text-align: right;\n",
       "    }\n",
       "</style>\n",
       "<table border=\"1\" class=\"dataframe\">\n",
       "  <thead>\n",
       "    <tr style=\"text-align: right;\">\n",
       "      <th></th>\n",
       "      <th>Tipo</th>\n",
       "      <th>Bairro</th>\n",
       "      <th>Quartos</th>\n",
       "      <th>Vagas</th>\n",
       "      <th>Suites</th>\n",
       "      <th>Area</th>\n",
       "      <th>Valor</th>\n",
       "      <th>Condominio</th>\n",
       "      <th>IPTU</th>\n",
       "    </tr>\n",
       "  </thead>\n",
       "  <tbody>\n",
       "    <tr>\n",
       "      <th>0</th>\n",
       "      <td>Quitinete</td>\n",
       "      <td>Copacabana</td>\n",
       "      <td>1</td>\n",
       "      <td>0</td>\n",
       "      <td>0</td>\n",
       "      <td>40</td>\n",
       "      <td>1700.0</td>\n",
       "      <td>500.0</td>\n",
       "      <td>60.0</td>\n",
       "    </tr>\n",
       "    <tr>\n",
       "      <th>1</th>\n",
       "      <td>Casa</td>\n",
       "      <td>Jardim Botânico</td>\n",
       "      <td>2</td>\n",
       "      <td>0</td>\n",
       "      <td>1</td>\n",
       "      <td>100</td>\n",
       "      <td>7000.0</td>\n",
       "      <td>NaN</td>\n",
       "      <td>NaN</td>\n",
       "    </tr>\n",
       "    <tr>\n",
       "      <th>2</th>\n",
       "      <td>Apartamento</td>\n",
       "      <td>Centro</td>\n",
       "      <td>1</td>\n",
       "      <td>0</td>\n",
       "      <td>0</td>\n",
       "      <td>15</td>\n",
       "      <td>800.0</td>\n",
       "      <td>390.0</td>\n",
       "      <td>20.0</td>\n",
       "    </tr>\n",
       "    <tr>\n",
       "      <th>3</th>\n",
       "      <td>Apartamento</td>\n",
       "      <td>Higienópolis</td>\n",
       "      <td>1</td>\n",
       "      <td>0</td>\n",
       "      <td>0</td>\n",
       "      <td>48</td>\n",
       "      <td>800.0</td>\n",
       "      <td>230.0</td>\n",
       "      <td>NaN</td>\n",
       "    </tr>\n",
       "    <tr>\n",
       "      <th>4</th>\n",
       "      <td>Apartamento</td>\n",
       "      <td>Vista Alegre</td>\n",
       "      <td>3</td>\n",
       "      <td>1</td>\n",
       "      <td>0</td>\n",
       "      <td>70</td>\n",
       "      <td>1200.0</td>\n",
       "      <td>NaN</td>\n",
       "      <td>NaN</td>\n",
       "    </tr>\n",
       "  </tbody>\n",
       "</table>\n",
       "</div>"
      ],
      "text/plain": [
       "          Tipo           Bairro  Quartos  Vagas  Suites  Area   Valor  \\\n",
       "0    Quitinete       Copacabana        1      0       0    40  1700.0   \n",
       "1         Casa  Jardim Botânico        2      0       1   100  7000.0   \n",
       "2  Apartamento           Centro        1      0       0    15   800.0   \n",
       "3  Apartamento     Higienópolis        1      0       0    48   800.0   \n",
       "4  Apartamento     Vista Alegre        3      1       0    70  1200.0   \n",
       "\n",
       "   Condominio  IPTU  \n",
       "0       500.0  60.0  \n",
       "1         NaN   NaN  \n",
       "2       390.0  20.0  \n",
       "3       230.0   NaN  \n",
       "4         NaN   NaN  "
      ]
     },
     "execution_count": 6,
     "metadata": {},
     "output_type": "execute_result"
    }
   ],
   "source": [
    "import pandas as pd\n",
    "dados = pd.read_csv('aluguel_residencial.csv', sep=\";\")\n",
    "dados.head()"
   ]
  },
  {
   "cell_type": "markdown",
   "id": "e71b3d02",
   "metadata": {},
   "source": [
    "## Apartamentos "
   ]
  },
  {
   "cell_type": "code",
   "execution_count": 2,
   "id": "4032fc3c",
   "metadata": {},
   "outputs": [
    {
     "name": "stdout",
     "output_type": "stream",
     "text": [
      "A quantidade de imóveis do tipo 'Apartamento' é: 19532\n"
     ]
    }
   ],
   "source": [
    "sel_ap = dados['Tipo'] == 'Apartamento'\n",
    "freq_ap = dados[sel_ap].shape[0]\n",
    "print(\"A quantidade de imóveis do tipo 'Apartamento' é:\", freq_ap)"
   ]
  },
  {
   "cell_type": "markdown",
   "id": "9d4450f4",
   "metadata": {},
   "source": [
    "## Casas, Casas de Condomínio ou Casas de Vilas"
   ]
  },
  {
   "cell_type": "code",
   "execution_count": 3,
   "id": "bfe22cb4",
   "metadata": {},
   "outputs": [
    {
     "name": "stdout",
     "output_type": "stream",
     "text": [
      "A quantidade de imóveis dos tipos 'Casa', 'Casa de Condomínio' e 'Casa de Vila' é: 2212\n",
      "A quantidade dos imóveis do tipo 'Casa' é: 967\n",
      "A quantidade dos imóveis do tipo 'Casa de Condomínio' é: 996\n",
      "A quantidade dos imóveis do tipo 'Casa de Vila' é: 249\n"
     ]
    }
   ],
   "source": [
    "# geral\n",
    "sel_casas = (dados['Tipo'] == 'Casa') | (dados['Tipo'] == 'Casa de Condomínio') | (dados['Tipo'] == 'Casa de Vila')\n",
    "freq_casas = dados[sel_casas].shape[0]\n",
    "# apenas casa\n",
    "sel_kza = dados['Tipo'] == 'Casa'\n",
    "freq_kza = dados[sel_kza].shape[0]\n",
    "# apenas casa de condomínio\n",
    "sel_kza_c = dados['Tipo'] == 'Casa de Condomínio'\n",
    "freq_kza_c = dados[sel_kza_c].shape[0]\n",
    "# apenas casa de vila\n",
    "sel_kza_v = dados['Tipo'] == 'Casa de Vila'\n",
    "freq_kza_v = dados[sel_kza_v].shape[0]\n",
    "# resultados\n",
    "print(\"A quantidade de imóveis dos tipos 'Casa', 'Casa de Condomínio' e 'Casa de Vila' é:\", freq_casas) \n",
    "print(\"A quantidade dos imóveis do tipo 'Casa' é:\", freq_kza)\n",
    "print(\"A quantidade dos imóveis do tipo 'Casa de Condomínio' é:\", freq_kza_c)\n",
    "print(\"A quantidade dos imóveis do tipo 'Casa de Vila' é:\", freq_kza_v)"
   ]
  },
  {
   "cell_type": "markdown",
   "id": "c508d781",
   "metadata": {},
   "source": [
    "##  Área entre 60 e 100 metros quadrados"
   ]
  },
  {
   "cell_type": "code",
   "execution_count": 4,
   "id": "b4a6e290",
   "metadata": {},
   "outputs": [
    {
     "name": "stdout",
     "output_type": "stream",
     "text": [
      "A quantidade de imóveis com a área entre 60 e 100 metros é: 8719\n"
     ]
    }
   ],
   "source": [
    "sel_area = (dados['Area'] >= 60) & (dados['Area'] <=100)\n",
    "freq_area = dados[sel_area].shape[0]\n",
    "print(\"A quantidade de imóveis com a área entre 60 e 100 metros é:\", freq_area) "
   ]
  },
  {
   "cell_type": "markdown",
   "id": "d02b24cb",
   "metadata": {},
   "source": [
    "## Quatro quartos e aluguel menor que R$ 2.000,00"
   ]
  },
  {
   "cell_type": "code",
   "execution_count": 5,
   "id": "8f13121e",
   "metadata": {},
   "outputs": [
    {
     "name": "stdout",
     "output_type": "stream",
     "text": [
      "A quantidade de imóveis com pelo menos quatro quartos e aluguel menor do que R$2000 é: 41\n"
     ]
    }
   ],
   "source": [
    "sel_qua = (dados['Quartos'] >= 4) & (dados['Valor'] < 2000)\n",
    "freq_qua = dados[sel_qua].shape[0]\n",
    "print(\"A quantidade de imóveis com pelo menos quatro quartos e aluguel menor do que R$2000 é:\", freq_qua) "
   ]
  },
  {
   "cell_type": "markdown",
   "id": "22cddc7f",
   "metadata": {},
   "source": [
    "# Resumo do Relatório"
   ]
  },
  {
   "cell_type": "markdown",
   "id": "df093885",
   "metadata": {},
   "source": [
    "A quantidade de imóveis do tipo Apartamento é: **19532**\n",
    "\n",
    "A quantidade de imóveis dos tipos Casa, Casa de Condomínio e Casa de Vila é: **2212**\n",
    "\n",
    "A quantidade de imóveis com a área entre 60 e 100 metros é: **8719**\n",
    "\n",
    "A quantidade de imóveis com pelo menos quatro quartos e aluguel menor do que R$2000 é: **41**    "
   ]
  }
 ],
 "metadata": {
  "kernelspec": {
   "display_name": "Python 3 (ipykernel)",
   "language": "python",
   "name": "python3"
  },
  "language_info": {
   "codemirror_mode": {
    "name": "ipython",
    "version": 3
   },
   "file_extension": ".py",
   "mimetype": "text/x-python",
   "name": "python",
   "nbconvert_exporter": "python",
   "pygments_lexer": "ipython3",
   "version": "3.9.13"
  }
 },
 "nbformat": 4,
 "nbformat_minor": 5
}
