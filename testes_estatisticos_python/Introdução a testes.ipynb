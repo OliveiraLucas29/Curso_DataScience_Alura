{
 "cells": [
  {
   "cell_type": "markdown",
   "id": "17de7b32",
   "metadata": {},
   "source": [
    "# Data Science - Introdução a testes estatísticos"
   ]
  },
  {
   "cell_type": "markdown",
   "id": "ae1b912d",
   "metadata": {},
   "source": [
    "## Importando bibliotecas e base de dados"
   ]
  },
  {
   "cell_type": "code",
   "execution_count": null,
   "id": "997c18dd",
   "metadata": {},
   "outputs": [],
   "source": [
    "import pandas as pd\n",
    "import numpy as np\n",
    "import seaborn as sns\n",
    "import matplotlib.pyplot as plt\n",
    "%matplotlib inline"
   ]
  },
  {
   "cell_type": "code",
   "execution_count": null,
   "id": "de06dd48",
   "metadata": {},
   "outputs": [],
   "source": [
    "tmdb = pd.read_csv('tmdb_5000_movies.csv')"
   ]
  },
  {
   "cell_type": "markdown",
   "id": "9804fc3a",
   "metadata": {},
   "source": [
    "## Explorando base de dados "
   ]
  },
  {
   "cell_type": "code",
   "execution_count": null,
   "id": "c9defe57",
   "metadata": {},
   "outputs": [],
   "source": [
    "tmdb.head(3)"
   ]
  },
  {
   "cell_type": "code",
   "execution_count": null,
   "id": "b1d696c6",
   "metadata": {},
   "outputs": [],
   "source": [
    "tmdb.describe()"
   ]
  },
  {
   "cell_type": "code",
   "execution_count": null,
   "id": "1f1c6c4b",
   "metadata": {},
   "outputs": [],
   "source": [
    "sns.set_theme(context='notebook', style= 'darkgrid', palette = 'magma')"
   ]
  },
  {
   "cell_type": "code",
   "execution_count": null,
   "id": "4308fcbd",
   "metadata": {},
   "outputs": [],
   "source": [
    "ax = sns.histplot(tmdb['vote_average'], kde=True, stat='density')\n",
    "ax.set(xlabel= 'Nota Média', ylabel= 'Densidade')\n",
    "ax.set_title(\"Média de votos no TMDB\")"
   ]
  },
  {
   "cell_type": "code",
   "execution_count": null,
   "id": "907a3425",
   "metadata": {},
   "outputs": [],
   "source": [
    "fig = plt.figure(figsize=(9,5))\n",
    "ax = sns.histplot(tmdb['vote_average'], kde=True, stat='count')\n",
    "\n",
    "mu = tmdb['vote_average'].mean()\n",
    "median = tmdb['vote_average'].median()\n",
    "\n",
    "ax.set(xlabel= 'Nota Média', ylabel= 'Frequência')\n",
    "ax.set_title(\"Média de votos no TMDB\")\n",
    "ax.axvline(mu, color='#4B0082')\n",
    "ax.axvline(median, color='#000080', linestyle='--')\n",
    "ax.annotate('Média representada pela linha sólida', xy = (0,400), fontsize=12)\n",
    "ax.annotate('Mediana representada pela linha tracejada', xy = (0,375), fontsize=12)"
   ]
  },
  {
   "cell_type": "code",
   "execution_count": null,
   "id": "e5f37efd",
   "metadata": {},
   "outputs": [],
   "source": [
    "fig = plt.figure(figsize=(8,4))\n",
    "ax = sns.boxplot(x= tmdb['vote_average'],width = 0.5, color='#483D8B')\n",
    "ax.set(title='Distribuição da Média das notas', xlabel='Nota Média')"
   ]
  },
  {
   "cell_type": "markdown",
   "id": "37c20fec",
   "metadata": {},
   "source": [
    "- É normal um filme receber nota zero, mas ter a média zero não.\n",
    "- Da mesma forma, para que um filme tenha a média 10 é preciso que todas as pessoas tenham votado 10, o que é altamente improvável.\n",
    "- As notas médias 0 e 10 vem provavelmente de filmes sem votos, ou com poucos votos.\n",
    "- Devemos tratar esses dados para que eles não nos atrapalhem no futuro."
   ]
  },
  {
   "cell_type": "code",
   "execution_count": null,
   "id": "ee1bca88",
   "metadata": {},
   "outputs": [],
   "source": [
    "tmdb.query('vote_average == 0')"
   ]
  },
  {
   "cell_type": "code",
   "execution_count": null,
   "id": "eb941730",
   "metadata": {},
   "outputs": [],
   "source": [
    "tmdb.query('vote_average == 10')"
   ]
  },
  {
   "cell_type": "markdown",
   "id": "7b7bfdd2",
   "metadata": {},
   "source": [
    "- Confirmamos a suspeita de que os filmes com médias 0 e 10 tem poucas notas, e portanto não podem ser comparados com filmes com mais notas.\n",
    "- Vamos remover de nossa base de dados todos os filmes que tenham menos de 10 votos."
   ]
  },
  {
   "cell_type": "markdown",
   "id": "c9517c3f",
   "metadata": {},
   "source": [
    "## Tratando os dados"
   ]
  },
  {
   "cell_type": "code",
   "execution_count": null,
   "id": "59c95f11",
   "metadata": {},
   "outputs": [],
   "source": [
    "tmdb_10 = tmdb.query('vote_count >= 10')"
   ]
  },
  {
   "cell_type": "code",
   "execution_count": null,
   "id": "f7423b1a",
   "metadata": {},
   "outputs": [],
   "source": [
    "tmdb_10.describe()"
   ]
  },
  {
   "cell_type": "markdown",
   "id": "14fd149c",
   "metadata": {},
   "source": [
    "- Já podemos perceber que agora a nota média mínima é 1.9, e a máxima é 8.5."
   ]
  },
  {
   "cell_type": "code",
   "execution_count": null,
   "id": "71633d5a",
   "metadata": {},
   "outputs": [],
   "source": [
    "fig = plt.figure(figsize=(9,5))\n",
    "ax = sns.histplot(tmdb_10['vote_average'], kde=True)\n",
    "\n",
    "mu = tmdb_10['vote_average'].mean()\n",
    "median = tmdb_10['vote_average'].median()\n",
    "\n",
    "ax.set(xlabel= 'Nota Média', ylabel= 'Frequência')\n",
    "ax.set_title(\"Média de votos no TMDB para filmes com 10 ou mais votos\")"
   ]
  },
  {
   "cell_type": "code",
   "execution_count": null,
   "id": "f80c2373",
   "metadata": {},
   "outputs": [],
   "source": [
    "fig = plt.figure(figsize=(9,4))\n",
    "ax = sns.boxplot(x= tmdb_10['vote_average'],width = 0.5, color='#483D8B')\n",
    "ax.set(title='Distribuição da Média das notas para filmes com 10 ou mais votos', xlabel='Nota Média')"
   ]
  },
  {
   "cell_type": "markdown",
   "id": "43c41ef2",
   "metadata": {},
   "source": [
    "- Nossos dados lembram uma distribuição normal, com uma leve assimetria a esquerda"
   ]
  },
  {
   "cell_type": "markdown",
   "id": "35930421",
   "metadata": {},
   "source": [
    "## Analisando dados do Movie Lens"
   ]
  },
  {
   "cell_type": "code",
   "execution_count": null,
   "id": "939de39e",
   "metadata": {},
   "outputs": [],
   "source": [
    "ml = pd.read_csv('ratings.csv')\n",
    "ml.head()"
   ]
  },
  {
   "cell_type": "code",
   "execution_count": null,
   "id": "75822bd2",
   "metadata": {},
   "outputs": [],
   "source": [
    "ml_mean = ml.groupby('movieId').mean()['rating']\n",
    "ml_mean"
   ]
  },
  {
   "cell_type": "code",
   "execution_count": null,
   "id": "dc47da89",
   "metadata": {},
   "outputs": [],
   "source": [
    "fig = plt.figure(figsize=(7,4))\n",
    "ax = sns.histplot(ml_mean.values, kde=True)\n",
    "ax.set(xlabel='Nota Média', ylabel='Frequência')\n",
    "ax.set_title('Distibuição das Médias das notas do Movie Lens', fontsize=15)"
   ]
  },
  {
   "cell_type": "code",
   "execution_count": null,
   "id": "cc01a1e7",
   "metadata": {},
   "outputs": [],
   "source": [
    "fig = plt.figure(figsize=(7,4))\n",
    "ax = sns.boxplot(x = ml_mean.values, width = 0.5, color ='#483D8B')\n",
    "ax.set_title('Distibuição das Médias das notas do Movie Lens', fontsize=15)\n",
    "ax.set_xlabel('Nota Média')"
   ]
  },
  {
   "cell_type": "markdown",
   "id": "9b108c35",
   "metadata": {},
   "source": [
    "- Percebemos o mesmo problema nessa base de dados, portanto, vamos realizar o mesmo tratamento nos dados, excluindo filmes que tenham menos de 10 votos"
   ]
  },
  {
   "cell_type": "code",
   "execution_count": null,
   "id": "b47a1070",
   "metadata": {},
   "outputs": [],
   "source": [
    "qtd_votos = ml.groupby('movieId').count()\n",
    "qtd_votos.head()"
   ]
  },
  {
   "cell_type": "code",
   "execution_count": null,
   "id": "4590044b",
   "metadata": {},
   "outputs": [],
   "source": [
    "qtd_votos.query('rating >= 10').head()"
   ]
  },
  {
   "cell_type": "code",
   "execution_count": null,
   "id": "498c3bd5",
   "metadata": {},
   "outputs": [],
   "source": [
    "ml_10 = qtd_votos.query('rating >= 10').index\n",
    "ml_10 = ml_10.values\n",
    "ml_10"
   ]
  },
  {
   "cell_type": "code",
   "execution_count": null,
   "id": "0b80dcba",
   "metadata": {},
   "outputs": [],
   "source": [
    "ml_10_mean = ml_mean.loc[ml_10]\n",
    "ml_10_mean"
   ]
  },
  {
   "cell_type": "code",
   "execution_count": null,
   "id": "d596529e",
   "metadata": {},
   "outputs": [],
   "source": [
    "fig = plt.figure(figsize=(7,4))\n",
    "ax = sns.histplot(ml_10_mean.values, kde=True)\n",
    "ax.set(xlabel='Nota Média', ylabel='Frequência')\n",
    "ax.set_title('Distibuição das Médias das notas do Movie Lens para filmes com 10 ou mais votos', fontsize=15)"
   ]
  },
  {
   "cell_type": "code",
   "execution_count": null,
   "id": "53ab8a24",
   "metadata": {},
   "outputs": [],
   "source": [
    "fig = plt.figure(figsize=(7,4))\n",
    "ax = sns.boxplot(x = ml_10_mean.values, width = 0.5, color ='#483D8B')\n",
    "ax.set_title('Distibuição das Médias das notas do Movie Lens para filmes com 10 ou mais votos', fontsize=12)\n",
    "ax.set_xlabel('Nota Média')"
   ]
  },
  {
   "cell_type": "markdown",
   "id": "85beec44",
   "metadata": {},
   "source": [
    "- Uma análise visual para as duas bases de dados nos leva a concluir que as pessoas se comportam de maneira similiar, pois ambas as bases de dados apresentam uma distribuição aparentemente normal com uma leve assimetria para a esquerda"
   ]
  },
  {
   "cell_type": "markdown",
   "id": "f8b1a2f4",
   "metadata": {},
   "source": [
    "## Visualizando a CDF (Cumulative Distribution Function)"
   ]
  },
  {
   "cell_type": "markdown",
   "id": "7e9c5b7c",
   "metadata": {},
   "source": [
    "Também conhecida como FDA (Função de Distribuição Acumulada), é um conceito importante na análise de dados e estatística. Ela descreve a probabilidade acumulada de uma variável aleatória assumir um determinado valor. Em outras palavras, a FDA nos dá uma visão completa da distribuição dos dados ao longo de um intervalo, mostrando como a probabilidade de ocorrência dos valores se acumula à medida que avançamos nessa escala. Essa função é útil para entender a propagação e a dispersão dos dados, além de permitir o cálculo de probabilidades associadas a intervalos específicos. Ao plotar a FDA, podemos visualizar a forma da distribuição dos dados e fazer inferências estatísticas sobre eles.\n",
    "\n",
    "Vídeos para estudar:\n",
    "- **RespondeAí:** https://www.youtube.com/watch?v=F9fXrpqCttI&ab_channel=RespondeA%C3%AD \n",
    "- **Engenheiro Cripto:** https://www.youtube.com/watch?v=QmMb1il7DNQ&ab_channel=EngenheiroCripto \n",
    "\n",
    "Abaixo, um vídeo ensinando sobre CDF e como plotar com o Seaborn atualizado:"
   ]
  },
  {
   "cell_type": "code",
   "execution_count": null,
   "id": "eb5ab91b",
   "metadata": {},
   "outputs": [],
   "source": [
    "%%html\n",
    "<iframe width=\"560\" height=\"315\" src=\"https://www.youtube.com/embed/Twh0w3gcrDI\" title=\"YouTube video player\" frameborder=\"0\" allow=\"accelerometer; autoplay; clipboard-write; encrypted-media; gyroscope; picture-in-picture; web-share\" allowfullscreen></iframe>"
   ]
  },
  {
   "cell_type": "code",
   "execution_count": null,
   "id": "0efa1991",
   "metadata": {},
   "outputs": [],
   "source": [
    "fig = plt.figure(figsize=(9,4))\n",
    "ax = sns.ecdfplot(ml_10_mean.values)\n",
    "ax.set(xlabel='Nota Média', ylabel='Porcentagem')\n",
    "ax.set_title('CDF das Médias das notas do Movie Lens para filmes com 10 ou mais votos', fontsize=13, pad=15)\n",
    "ax.axvline(3.9, linestyle='--')\n",
    "ax.annotate('80%', xy=(3.95,0.79))\n",
    "ax.axvline(3.5, linestyle='--')\n",
    "ax.annotate('50%', xy=(3.53,0.47))"
   ]
  },
  {
   "cell_type": "markdown",
   "id": "c16dc2f1",
   "metadata": {},
   "source": [
    "**Observando a Distribuição Acumulada, podemos perceber:**\n",
    "- Filmes com nota média igual ou inferior a 3 estão entre os 20% com nota média mais baixa\n",
    "- Filmes com nota média igual ou inferior a 3.9 estão entre os 20% com nota média mais alta\n",
    "- Filmes com nota média maior ou igual a 4 estão entre os 10% com nota média mais alta"
   ]
  },
  {
   "cell_type": "code",
   "execution_count": null,
   "id": "e99de10a",
   "metadata": {},
   "outputs": [],
   "source": [
    "fig = plt.figure(figsize=(9,4))\n",
    "ax = sns.ecdfplot(tmdb_10['vote_average'])\n",
    "ax.set(xlabel='Nota Média', ylabel='Porcentagem')\n",
    "ax.set_title('CDF das Médias das notas do TMDB para filmes com 10 ou mais votos', fontsize=13, pad=15)\n",
    "ax.axvline(6.9,linestyle=':')\n",
    "ax.annotate('90%',xy=(7.37,0.85))\n",
    "ax.axvline(7.3,linestyle=':')\n",
    "ax.annotate('80%',xy=(6.93,0.73))\n",
    "ax.axvline(6.2,linestyle=':')\n",
    "ax.annotate('50%',xy=(6.25,0.43))"
   ]
  },
  {
   "cell_type": "markdown",
   "id": "13414fcd",
   "metadata": {},
   "source": [
    "**Observando a Distribuição Acumulada, podemos perceber:**\n",
    "- Filmes com nota média igual ou inferior a 5.5 estão entre os 20% com nota média mais baixa\n",
    "- Filmes com nota média igual ou superior a 6.9 estão entre os 20% com nota média mais alta\n",
    "- Filmes com nota média maior ou igual a 7.3 estão entre os 10% com nota média mais alta"
   ]
  },
  {
   "cell_type": "markdown",
   "id": "ce882e6a",
   "metadata": {},
   "source": [
    "## Analisando a distribuição de outras variáveis em nossa base de dados do TMDB"
   ]
  },
  {
   "cell_type": "code",
   "execution_count": null,
   "id": "da1f11da",
   "metadata": {},
   "outputs": [],
   "source": [
    "tmdb_10.head(2)"
   ]
  },
  {
   "cell_type": "markdown",
   "id": "5eee6f71",
   "metadata": {},
   "source": [
    "### Quantidade de Votos"
   ]
  },
  {
   "cell_type": "code",
   "execution_count": null,
   "id": "88cea272",
   "metadata": {},
   "outputs": [],
   "source": [
    "fig = plt.figure(figsize = (6,4))\n",
    "ax = sns.histplot(tmdb_10['vote_count'], kde=True)\n",
    "ax.set(xlabel='Quantidade de votos', ylabel='Contagem')\n",
    "ax.set_title('Distribuição de Quantidade de Votos no TMDB para filmes com 10 ou mais votos')"
   ]
  },
  {
   "cell_type": "code",
   "execution_count": null,
   "id": "d8342876",
   "metadata": {},
   "outputs": [],
   "source": [
    "fig = plt.figure(figsize = (6,4))\n",
    "ax = sns.ecdfplot(tmdb_10['vote_count'])\n",
    "ax.set_title('CDF Contagem de Votos TMDB')\n",
    "ax.set(xlabel='Quantidade de Votos',ylabel='Proporção')"
   ]
  },
  {
   "cell_type": "markdown",
   "id": "10787908",
   "metadata": {},
   "source": [
    "- Essa distribuição mostra um comportamento normal e esperado: Muitos filmes com poucos votos e poucos filmes com muitos votos\n",
    "- Isso acontece porque não são todos os filmes que possuem uma popularidade alta, então filmes mais desconhecidos possuem menos votos"
   ]
  },
  {
   "cell_type": "markdown",
   "id": "89d58dc8",
   "metadata": {},
   "source": [
    "### Popularidade"
   ]
  },
  {
   "cell_type": "code",
   "execution_count": null,
   "id": "06d769dc",
   "metadata": {},
   "outputs": [],
   "source": [
    "tmdb.query('popularity == 0')"
   ]
  },
  {
   "cell_type": "markdown",
   "id": "2b8e2530",
   "metadata": {},
   "source": [
    "- Temos apenas um filme com a popularidade igual a zero. Como é apenas um, podemos supor que não se trata de nenhum erro na base de dados, e sim que o filme realmente não é nem um pouco popular\n",
    "- Devido a isso, iremos proseguir com a análise, sem remover esse filme."
   ]
  },
  {
   "cell_type": "code",
   "execution_count": null,
   "id": "a215f8b7",
   "metadata": {},
   "outputs": [],
   "source": [
    "fig = plt.figure(figsize = (6,4))\n",
    "ax = sns.histplot(tmdb['popularity'], kde=True)\n",
    "ax.set_title('Distribuição da popularidade TMDB')\n",
    "ax.set(xlabel='Popularidade', ylabel='Contagem')"
   ]
  },
  {
   "cell_type": "code",
   "execution_count": null,
   "id": "e1b92388",
   "metadata": {},
   "outputs": [],
   "source": [
    "fig = plt.figure(figsize = (6,4))\n",
    "ax = sns.ecdfplot(tmdb['popularity'])\n",
    "ax.set_title('CDF Popularidade TMDB')\n",
    "ax.set(xlabel='Popularidade',ylabel='Proporção')"
   ]
  },
  {
   "cell_type": "markdown",
   "id": "b71ae408",
   "metadata": {},
   "source": [
    "- Resultado esperado e que condiz com as outras variáveis analisadas"
   ]
  },
  {
   "cell_type": "markdown",
   "id": "341d7636",
   "metadata": {},
   "source": [
    "### Orçamento"
   ]
  },
  {
   "cell_type": "code",
   "execution_count": null,
   "id": "a116f975",
   "metadata": {},
   "outputs": [],
   "source": [
    "tmdb['budget']"
   ]
  },
  {
   "cell_type": "markdown",
   "id": "398d2b30",
   "metadata": {},
   "source": [
    "- Não faz sentido um filme ter o orçamento igual a 0, por isso, vamos eliminar esses filmes para uma análise mais coerente"
   ]
  },
  {
   "cell_type": "code",
   "execution_count": null,
   "id": "6eb992ac",
   "metadata": {},
   "outputs": [],
   "source": [
    "true_budget = tmdb.query('budget > 0')['budget']"
   ]
  },
  {
   "cell_type": "code",
   "execution_count": null,
   "id": "cbbd535d",
   "metadata": {},
   "outputs": [],
   "source": [
    "fig = plt.figure(figsize = (6,4))\n",
    "ax = sns.histplot(true_budget, kde=True)\n",
    "ax.set(xlabel='Orçamento', ylabel='Contagem')\n",
    "ax.set_title('Distribuição dos orçamentos TMDB')"
   ]
  },
  {
   "cell_type": "code",
   "execution_count": null,
   "id": "8485c436",
   "metadata": {},
   "outputs": [],
   "source": [
    "fig = plt.figure(figsize = (6,4))\n",
    "ax = sns.ecdfplot(true_budget)\n",
    "ax.set_title('CDF Orçamento TMDB')\n",
    "ax.set(xlabel='Orçamento',ylabel='Proporção')"
   ]
  },
  {
   "cell_type": "markdown",
   "id": "4f8c97d7",
   "metadata": {},
   "source": [
    "- Também apresenta o comportamento esperado: Muitos filmes com orçamento mais baixo e poucos filmes com orçamento altíssimo\n",
    "- Note que nosso eixo X está sendo escrito com a notação 'e', ou seja, 3.5 na verdade é 350.000.000"
   ]
  },
  {
   "cell_type": "markdown",
   "id": "de8b6340",
   "metadata": {},
   "source": [
    "### Tempo de Duração"
   ]
  },
  {
   "cell_type": "code",
   "execution_count": null,
   "id": "a742a077",
   "metadata": {},
   "outputs": [],
   "source": [
    "tmdb['runtime'].info()"
   ]
  },
  {
   "cell_type": "markdown",
   "id": "bd35a248",
   "metadata": {},
   "source": [
    "- Temos 4803 entradas para a variável runtime, e apenas 4801 com valores não nulos, ou seja, 2 entradas com valores nulos (NaN)\n",
    "- Vamos eliminar essas entradas para proseguir com a análise"
   ]
  },
  {
   "cell_type": "code",
   "execution_count": null,
   "id": "995efb2d",
   "metadata": {},
   "outputs": [],
   "source": [
    "true_runtime = tmdb['runtime'].dropna()"
   ]
  },
  {
   "cell_type": "code",
   "execution_count": null,
   "id": "ee50007e",
   "metadata": {},
   "outputs": [],
   "source": [
    "true_runtime.info()"
   ]
  },
  {
   "cell_type": "code",
   "execution_count": null,
   "id": "aac399b6",
   "metadata": {},
   "outputs": [],
   "source": [
    "fig = plt.figure(figsize = (6,4))\n",
    "ax = sns.histplot(true_runtime, kde=True)\n",
    "ax.set(xlabel='Tempo de Duração', ylabel='Contagem')\n",
    "ax.set_title('Distribuição do Tempo de Duração TMDB')"
   ]
  },
  {
   "cell_type": "markdown",
   "id": "26880398",
   "metadata": {},
   "source": [
    "- Podemos perceber que temos alguns valores iguais a zero, o que não faz sentido para a variável tempo de duração. Vamos eliminar esses registros também"
   ]
  },
  {
   "cell_type": "code",
   "execution_count": null,
   "id": "3057adc7",
   "metadata": {},
   "outputs": [],
   "source": [
    "true_runtime = tmdb.query('runtime > 0')['runtime'].dropna()"
   ]
  },
  {
   "cell_type": "code",
   "execution_count": null,
   "id": "73993928",
   "metadata": {},
   "outputs": [],
   "source": [
    "fig = plt.figure(figsize = (6,4))\n",
    "ax = sns.histplot(true_runtime, kde=True)\n",
    "ax.set(xlabel='Tempo de Duração', ylabel='Contagem')\n",
    "ax.set_title('Distribuição do Tempo de Duração TMDB')"
   ]
  },
  {
   "cell_type": "code",
   "execution_count": null,
   "id": "88231da7",
   "metadata": {},
   "outputs": [],
   "source": [
    "fig = plt.figure(figsize = (6,4))\n",
    "ax = sns.ecdfplot(true_runtime)\n",
    "ax.set_title('CDF Tempo de Duração TMDB')\n",
    "ax.set(xlabel='Tempo de Duração',ylabel='Proporção')"
   ]
  },
  {
   "cell_type": "markdown",
   "id": "ae15e2e1",
   "metadata": {},
   "source": [
    "## Obtendo valores numéricos "
   ]
  },
  {
   "cell_type": "markdown",
   "id": "9206495a",
   "metadata": {},
   "source": [
    "Observando o gráfico acima, podemos analisar visualmente que uma proporção de 80% dos filmes tem no máximo um pouco mais de 100 minutos, mas não conseguimos identificar facilmente esse valor. Para isso, vamos usar a função .quantile() do pandas!"
   ]
  },
  {
   "cell_type": "code",
   "execution_count": null,
   "id": "a2a73442",
   "metadata": {},
   "outputs": [],
   "source": [
    "true_runtime.quantile(0.8)"
   ]
  },
  {
   "cell_type": "markdown",
   "id": "f39445ce",
   "metadata": {},
   "source": [
    "Pronto! Assim descobrimos facilmente que o decil 8 representa 121 minutos, ou seja, 80% dos filmes possuem no máximo 121 minutos"
   ]
  },
  {
   "cell_type": "markdown",
   "id": "00c28aef",
   "metadata": {},
   "source": [
    "## O efeito do tamanho de uma amostra"
   ]
  },
  {
   "cell_type": "markdown",
   "id": "cd84ad2c",
   "metadata": {},
   "source": [
    "\n",
    "O tamanho da amostra desempenha um papel crucial nos testes estatísticos. Quanto maior for o tamanho da amostra, maior será a precisão e a confiabilidade dos resultados obtidos. Com uma amostra grande, as estimativas e conclusões tendem a ser mais representativas da população total. Além disso, um tamanho de amostra maior permite detectar efeitos menores com mais facilidade, aumentando o poder estatístico dos testes. Por outro lado, amostras pequenas podem levar a conclusões menos precisas e mais sujeitas a erros, reduzindo a confiabilidade dos resultados estatísticos. Portanto, entender o impacto do tamanho da amostra é essencial para obter resultados estatisticamente válidos e confiáveis em pesquisas e estudos.\n",
    "\n",
    "Vamos ver de maneira visual a diferença que tamanho da amostra faz ao análisar a média das notas médias em nossa base de dados do Movie Lens!"
   ]
  },
  {
   "cell_type": "code",
   "execution_count": null,
   "id": "27089d78",
   "metadata": {},
   "outputs": [],
   "source": [
    "print('A média das notas médias do MovieLens é:',ml_10_mean.mean())"
   ]
  },
  {
   "cell_type": "code",
   "execution_count": null,
   "id": "be182dbc",
   "metadata": {},
   "outputs": [],
   "source": [
    "ml_10_mean.shape[0]"
   ]
  },
  {
   "cell_type": "markdown",
   "id": "c80e0278",
   "metadata": {},
   "source": [
    "Ao calcular a média de 2269 entradas, o resultados foi 3.43, mas e se menos entradas fossem analizadas? Vamos ver a seguir:"
   ]
  },
  {
   "cell_type": "code",
   "execution_count": null,
   "id": "197c90e1",
   "metadata": {},
   "outputs": [],
   "source": [
    "ml_10_mean[0:1].mean()"
   ]
  },
  {
   "cell_type": "code",
   "execution_count": null,
   "id": "f007062d",
   "metadata": {},
   "outputs": [],
   "source": [
    "ml_10_mean[0:2].mean()"
   ]
  },
  {
   "cell_type": "code",
   "execution_count": null,
   "id": "69bd56ec",
   "metadata": {},
   "outputs": [],
   "source": [
    "ml_10_mean[0:3].mean()"
   ]
  },
  {
   "cell_type": "code",
   "execution_count": null,
   "id": "d7431a9e",
   "metadata": {},
   "outputs": [],
   "source": [
    "ml_10_mean[0:4].mean()"
   ]
  },
  {
   "cell_type": "code",
   "execution_count": null,
   "id": "a9c04be6",
   "metadata": {},
   "outputs": [],
   "source": [
    "ml_10_mean[0:5].mean()"
   ]
  },
  {
   "cell_type": "code",
   "execution_count": null,
   "id": "e8decbdd",
   "metadata": {},
   "outputs": [],
   "source": [
    "ml_10_mean[0:6].mean()"
   ]
  },
  {
   "cell_type": "markdown",
   "id": "d1945050",
   "metadata": {},
   "source": [
    "Podemos perceber que a cada nova entrada analizada o valor mudava, ás vezes muito e as vezes não tanto. Vamos fazer um for para analizar todas as médias "
   ]
  },
  {
   "cell_type": "code",
   "execution_count": null,
   "id": "cf99981e",
   "metadata": {},
   "outputs": [],
   "source": [
    "medias = list()\n",
    "for i in range(1, len(ml_10_mean)):\n",
    "    medias.append(ml_10_mean[0:i].mean())\n",
    "medias"
   ]
  },
  {
   "cell_type": "markdown",
   "id": "37156b4d",
   "metadata": {},
   "source": [
    "Agora vamos plotar essas médias em um gráfico, para analisar de forma visual a diferença que o tamanho da amostra faz"
   ]
  },
  {
   "cell_type": "code",
   "execution_count": null,
   "id": "a2d896b7",
   "metadata": {},
   "outputs": [],
   "source": [
    "fig = plt.figure(figsize=(10,4))\n",
    "ax = plt.plot(medias)"
   ]
  },
  {
   "cell_type": "markdown",
   "id": "851f336c",
   "metadata": {},
   "source": [
    "Podemos perceber que com uma amostra pequena, o valor é instável, apresentando grande variação e pouca confiabilidade, mas conforme a amostra fica maior, o valor fica mais estável e também mais confiável."
   ]
  },
  {
   "cell_type": "markdown",
   "id": "32697360",
   "metadata": {},
   "source": [
    "Não sabemos se os dados do Movie Lens foram organizados de uma maneira específica, que pode estar causando essa instabilidade, por isso, é bom testarmos novamente randomizando a ordem em que as entradas serão analizadas."
   ]
  },
  {
   "cell_type": "code",
   "execution_count": null,
   "id": "27057eaa",
   "metadata": {},
   "outputs": [],
   "source": [
    "rand = ml_10_mean.sample(frac=1, random_state=29)\n",
    "\n",
    "medias = list()\n",
    "for i in range(1, len(rand)):\n",
    "    medias.append(rand[0:i].mean())\n",
    "medias\n",
    "\n",
    "fig = plt.figure(figsize=(10,4))\n",
    "ax = plt.plot(medias)"
   ]
  },
  {
   "cell_type": "markdown",
   "id": "daf1a01c",
   "metadata": {},
   "source": [
    "testando com outras seeds aleatórias:"
   ]
  },
  {
   "cell_type": "code",
   "execution_count": null,
   "id": "9e44fb5d",
   "metadata": {
    "scrolled": true
   },
   "outputs": [],
   "source": [
    "rand = ml_10_mean.sample(frac=1, random_state=2001)\n",
    "\n",
    "medias = list()\n",
    "for i in range(1, len(rand)):\n",
    "    medias.append(rand[0:i].mean())\n",
    "medias\n",
    "\n",
    "fig = plt.figure(figsize=(10,4))\n",
    "ax = plt.plot(medias)"
   ]
  },
  {
   "cell_type": "code",
   "execution_count": null,
   "id": "7ae6c0d4",
   "metadata": {},
   "outputs": [],
   "source": [
    "rand = ml_10_mean.sample(frac=1, random_state=143)\n",
    "\n",
    "medias = list()\n",
    "for i in range(1, len(rand)):\n",
    "    medias.append(rand[0:i].mean())\n",
    "medias\n",
    "\n",
    "fig = plt.figure(figsize=(10,4))\n",
    "ax = plt.plot(medias)"
   ]
  },
  {
   "cell_type": "code",
   "execution_count": null,
   "id": "4614a69e",
   "metadata": {},
   "outputs": [],
   "source": [
    "rand = ml_10_mean.sample(frac=1, random_state=1)\n",
    "\n",
    "medias = list()\n",
    "for i in range(1, len(rand)):\n",
    "    medias.append(rand[0:i].mean())\n",
    "medias\n",
    "\n",
    "fig = plt.figure(figsize=(10,4))\n",
    "ax = plt.plot(medias)"
   ]
  },
  {
   "cell_type": "code",
   "execution_count": null,
   "id": "1f7be195",
   "metadata": {},
   "outputs": [],
   "source": [
    "rand = ml_10_mean.sample(frac=1, random_state=9999999)\n",
    "\n",
    "medias = list()\n",
    "for i in range(1, len(rand)):\n",
    "    medias.append(rand[0:i].mean())\n",
    "medias\n",
    "\n",
    "fig = plt.figure(figsize=(10,4))\n",
    "ax = plt.plot(medias)"
   ]
  },
  {
   "cell_type": "markdown",
   "id": "d99afade",
   "metadata": {},
   "source": [
    "No Python, existe uma maneira mais direta de criarmos uma lista na qual os elementos são adicionados um a um progressivamente: basta passarmos as condições a serem executadas no for antes desse iterador, e colocarmos toda essa construção entre colchetes:"
   ]
  },
  {
   "cell_type": "code",
   "execution_count": null,
   "id": "93800958",
   "metadata": {},
   "outputs": [],
   "source": [
    "rand = ml_10_mean.sample(frac=1, random_state=23)\n",
    "\n",
    "medias = list()\n",
    "medias = [rand[0:i].mean() for i in range(1, len(rand))]\n",
    "\n",
    "fig = plt.figure(figsize=(10,4))\n",
    "ax = plt.plot(medias)"
   ]
  },
  {
   "cell_type": "markdown",
   "id": "29056b9d",
   "metadata": {},
   "source": [
    "## Intervalo de Confiança"
   ]
  },
  {
   "cell_type": "markdown",
   "id": "22bae583",
   "metadata": {},
   "source": [
    "Vamos tentar entender, então, qual o intervalo de confiança que temos para as médias dos nossos filmes. Isso não quer dizer que todos os filmes do mundo terão uma média 3.43, mas queremos criar uma generalização, a partir dessa amostra, sobre os filmes que existem no mundo.\n",
    "\n",
    "O objetivo, então, é utilizarmos o Teste Z para encontrarmos um intervalo de confiança que abrangerá não só os filmes da nossa amostra, mas também aqueles fora dela. Para isso, usaremos a função zconfint() (que se refere ao intervalo de confiança no Teste Z), passando como parâmetro os nossos dados. O parâmetro alpha, que é o valor de p, já é previamente configurado como 0.05 (5%)."
   ]
  },
  {
   "cell_type": "code",
   "execution_count": null,
   "id": "3b0c07c1",
   "metadata": {},
   "outputs": [],
   "source": [
    "from statsmodels.stats.weightstats import zconfint"
   ]
  },
  {
   "cell_type": "code",
   "execution_count": null,
   "id": "af1ca787",
   "metadata": {},
   "outputs": [],
   "source": [
    "zconfint(ml_10_mean)"
   ]
  },
  {
   "cell_type": "markdown",
   "id": "4ab0c8e8",
   "metadata": {},
   "source": [
    "### Utilizando o Teste T\n",
    "\n",
    "Documentação do DescrStatsW: https://www.statsmodels.org/dev/generated/statsmodels.stats.weightstats.DescrStatsW.html#statsmodels.stats.weightstats.DescrStatsW"
   ]
  },
  {
   "cell_type": "code",
   "execution_count": null,
   "id": "a883ac91",
   "metadata": {},
   "outputs": [],
   "source": [
    "from statsmodels.stats.weightstats import DescrStatsW"
   ]
  },
  {
   "cell_type": "code",
   "execution_count": null,
   "id": "f394ed14",
   "metadata": {},
   "outputs": [],
   "source": [
    "descr_ml_10_mean = DescrStatsW(ml_10_mean)\n",
    "descr_ml_10_mean"
   ]
  },
  {
   "cell_type": "code",
   "execution_count": null,
   "id": "3bd6dd82",
   "metadata": {},
   "outputs": [],
   "source": [
    "descr_ml_10_mean.tconfint_mean()"
   ]
  },
  {
   "cell_type": "markdown",
   "id": "f107cb6b",
   "metadata": {},
   "source": [
    "O teste T é mais indicado para amostras pequenas, enquanto o test Z é melhor para amostrar maiores"
   ]
  },
  {
   "cell_type": "markdown",
   "id": "8264c91b",
   "metadata": {},
   "source": [
    "## Analizando o Filme 1"
   ]
  },
  {
   "cell_type": "code",
   "execution_count": null,
   "id": "1f641cf8",
   "metadata": {},
   "outputs": [],
   "source": [
    "filmes = pd.read_csv('movies.csv')\n",
    "filmes.head()"
   ]
  },
  {
   "cell_type": "code",
   "execution_count": null,
   "id": "731aedea",
   "metadata": {},
   "outputs": [],
   "source": [
    "ml.head()"
   ]
  },
  {
   "cell_type": "code",
   "execution_count": null,
   "id": "45bafdd6",
   "metadata": {},
   "outputs": [],
   "source": [
    "filmes.query('movieId == 1')"
   ]
  },
  {
   "cell_type": "code",
   "execution_count": null,
   "id": "4b01573e",
   "metadata": {},
   "outputs": [],
   "source": [
    "notas1 = ml.query('movieId == 1')\n",
    "notas1"
   ]
  },
  {
   "cell_type": "code",
   "execution_count": null,
   "id": "314adfa5",
   "metadata": {},
   "outputs": [],
   "source": [
    "fig = plt.figure(figsize = (7,5))\n",
    "ax = sns.histplot(notas1['rating'], kde=True)\n",
    "ax.set_title('Distribuição das notas do Filme Toy Story')\n",
    "ax.set(xlabel='Notas', ylabel='Contagem')"
   ]
  },
  {
   "cell_type": "code",
   "execution_count": null,
   "id": "67e3935d",
   "metadata": {},
   "outputs": [],
   "source": [
    "fig = plt.figure(figsize = (7,5))\n",
    "ax = sns.boxplot(x = notas1['rating'])\n",
    "ax.set_title('Distribuição das notas do Filme Toy Story')\n",
    "ax.set_xlabel('Nota')"
   ]
  },
  {
   "cell_type": "code",
   "execution_count": null,
   "id": "cad8af02",
   "metadata": {},
   "outputs": [],
   "source": [
    "print('A nota média para a base de dados é:', ml_10_mean.mean())\n",
    "print('A nota média para o Toy Story é:', notas1['rating'].mean())\n",
    "print('Podemos perceber que Toy Story é um filme que recebe notas acima da média')"
   ]
  },
  {
   "cell_type": "code",
   "execution_count": null,
   "id": "8e27aea1",
   "metadata": {},
   "outputs": [],
   "source": [
    "zconfint(notas1['rating'])"
   ]
  },
  {
   "cell_type": "code",
   "execution_count": null,
   "id": "81850e4f",
   "metadata": {},
   "outputs": [],
   "source": [
    "from statsmodels.stats.weightstats import ztest"
   ]
  },
  {
   "cell_type": "code",
   "execution_count": null,
   "id": "0df0259b",
   "metadata": {},
   "outputs": [],
   "source": [
    "ztest(notas1['rating'], value=3.4320503405352603)"
   ]
  },
  {
   "cell_type": "markdown",
   "id": "9ac32c6a",
   "metadata": {},
   "source": [
    "## Analizando o comportamento da nota média com diferentes tamanhos de amostra"
   ]
  },
  {
   "cell_type": "code",
   "execution_count": null,
   "id": "3c348033",
   "metadata": {},
   "outputs": [],
   "source": [
    "np.random.seed(75241)\n",
    "rand = notas1.sample(frac=1)['rating']\n",
    "\n",
    "medias = [rand[0:i].mean() for i in range(1, len(rand))]\n",
    "\n",
    "plt.plot(medias)"
   ]
  },
  {
   "cell_type": "code",
   "execution_count": null,
   "id": "1461d48e",
   "metadata": {},
   "outputs": [],
   "source": [
    "rand = notas1.sample(frac=1, random_state=75241)['rating']\n",
    "\n",
    "def calcula_teste(i):\n",
    "    media = rand[0:i].mean()\n",
    "    stat, p = ztest(rand[0:i], value = 3.4320503405352603) \n",
    "    return (i, media, p)\n",
    "\n",
    "medias = [calcula_teste(i) for i in range(2, len(rand))]\n",
    "medias"
   ]
  },
  {
   "cell_type": "markdown",
   "id": "de036caa",
   "metadata": {},
   "source": [
    "## Comparando duas amostras"
   ]
  },
  {
   "cell_type": "code",
   "execution_count": null,
   "id": "fd7a5f6b",
   "metadata": {},
   "outputs": [],
   "source": [
    "print (ztest(notas1.rating, ml.rating))\n",
    "zconfint(notas1.rating, ml.rating)"
   ]
  },
  {
   "cell_type": "code",
   "execution_count": null,
   "id": "4c8bb46b",
   "metadata": {},
   "outputs": [],
   "source": [
    "from scipy.stats import ttest_ind\n",
    "\n",
    "ttest_ind(ml.rating, notas1.rating)"
   ]
  },
  {
   "cell_type": "code",
   "execution_count": null,
   "id": "2b6f5625",
   "metadata": {},
   "outputs": [],
   "source": [
    "descr_todas_as_notas = DescrStatsW(ml.rating)\n",
    "descr_toystory = DescrStatsW(notas1.rating)\n",
    "comparacao = descr_todas_as_notas.get_compare(descr_toystory)\n",
    "\n",
    "comparacao.summary()"
   ]
  },
  {
   "cell_type": "markdown",
   "id": "d1b34348",
   "metadata": {},
   "source": [
    "### Analizando visualmente"
   ]
  },
  {
   "cell_type": "code",
   "execution_count": null,
   "id": "bff93cc6",
   "metadata": {},
   "outputs": [],
   "source": [
    "plt.boxplot([ml['rating'],notas1['rating']], labels=['Todos os filmes','Toy Story'])\n",
    "plt.title('Distribuição das notas')"
   ]
  },
  {
   "cell_type": "code",
   "execution_count": null,
   "id": "129ca5e8",
   "metadata": {},
   "outputs": [],
   "source": [
    "plt.boxplot([ml['rating'],notas1[3:12]['rating']], labels=['Todos os filmes','Toy Story(Do 3 ao 12)'])\n",
    "plt.title('Distribuição das notas')"
   ]
  },
  {
   "cell_type": "markdown",
   "id": "adb10dc2",
   "metadata": {},
   "source": [
    "Esse gráfico mostra como é perigoso tirar conclusões de amostras pequenas"
   ]
  },
  {
   "cell_type": "markdown",
   "id": "491e2f1c",
   "metadata": {},
   "source": [
    "## Comparando filmes"
   ]
  },
  {
   "cell_type": "code",
   "execution_count": null,
   "id": "0f494c1f",
   "metadata": {},
   "outputs": [],
   "source": [
    "notas593 =  ml.query(\"movieId == 593\")\n",
    "notas72226 =  ml.query(\"movieId == 72226\")\n",
    "\n",
    "plt.boxplot([notas1.rating, notas593.rating, notas72226.rating], labels=[\"Toy Story\", \"Silence of the Lambs,\", \"Fantastic Mr. Fox\"])\n",
    "plt.title(\"Distribuição das notas de acordo com filmes\")"
   ]
  },
  {
   "cell_type": "code",
   "execution_count": null,
   "id": "289a1f70",
   "metadata": {},
   "outputs": [],
   "source": [
    "sns.boxplot(x = \"movieId\", y = \"rating\", data = ml.query(\"movieId in (1, 593, 72226)\"))"
   ]
  },
  {
   "cell_type": "code",
   "execution_count": null,
   "id": "62508bfc",
   "metadata": {},
   "outputs": [],
   "source": [
    "from scipy.stats import normaltest\n",
    "\n",
    "stat, p = normaltest(notas1.rating)\n",
    "p"
   ]
  },
  {
   "cell_type": "code",
   "execution_count": null,
   "id": "48e1761b",
   "metadata": {},
   "outputs": [],
   "source": [
    "from scipy.stats import ranksums\n",
    "\n",
    "_, p = ranksums(notas1.rating, notas593.rating)\n",
    "p"
   ]
  }
 ],
 "metadata": {
  "kernelspec": {
   "display_name": "Python 3 (ipykernel)",
   "language": "python",
   "name": "python3"
  },
  "language_info": {
   "codemirror_mode": {
    "name": "ipython",
    "version": 3
   },
   "file_extension": ".py",
   "mimetype": "text/x-python",
   "name": "python",
   "nbconvert_exporter": "python",
   "pygments_lexer": "ipython3",
   "version": "3.9.13"
  }
 },
 "nbformat": 4,
 "nbformat_minor": 5
}
