{
 "cells": [
  {
   "cell_type": "markdown",
   "id": "1caca3f2",
   "metadata": {},
   "source": [
    "# Obtendo tamanho da amostra\n",
    "\n",
    "O valor do gasto médio dos clientes de uma loja de conveniência é de 45,50 reais. Assumindo que o desvio padrão dos gastos é igual a 15,00 reais, qual deve ser o tamanho da amostra para estimarmos a média populacional com um nível de significância de 10%?\n",
    "\n",
    "Considere que o erro máximo aceitável seja de 10%."
   ]
  },
  {
   "cell_type": "markdown",
   "id": "6ed94c25",
   "metadata": {},
   "source": [
    "## $$n = \\left(z\\frac{\\sigma}{e}\\right)^2$$"
   ]
  },
  {
   "cell_type": "code",
   "execution_count": 1,
   "id": "798dc262",
   "metadata": {},
   "outputs": [],
   "source": [
    "desvio = 15"
   ]
  },
  {
   "cell_type": "code",
   "execution_count": 2,
   "id": "620ee9a5",
   "metadata": {},
   "outputs": [],
   "source": [
    "Z = 1.654"
   ]
  },
  {
   "cell_type": "code",
   "execution_count": 6,
   "id": "cd9c2a1e",
   "metadata": {},
   "outputs": [
    {
     "data": {
      "text/plain": [
       "4.55"
      ]
     },
     "execution_count": 6,
     "metadata": {},
     "output_type": "execute_result"
    }
   ],
   "source": [
    "e = (45.5/100)*10\n",
    "e"
   ]
  },
  {
   "cell_type": "code",
   "execution_count": 7,
   "id": "0329dc7e",
   "metadata": {},
   "outputs": [],
   "source": [
    "n = (Z * (desvio/e))**2"
   ]
  },
  {
   "cell_type": "code",
   "execution_count": 8,
   "id": "e1d22aca",
   "metadata": {},
   "outputs": [
    {
     "name": "stdout",
     "output_type": "stream",
     "text": [
      "O tamanho da amostra deve ser de 30\n"
     ]
    }
   ],
   "source": [
    "print('O tamanho da amostra deve ser de %0.0f'%n)"
   ]
  },
  {
   "cell_type": "markdown",
   "id": "f0003b7b",
   "metadata": {},
   "source": [
    "# Sacos de Farinha\n",
    "\n",
    "Um fabricante de farinha verificou que, em uma amostra aleatória formada por 200 sacos de 25 kg de um lote formado por 2.000 sacos, apresentou um desvio padrão amostral do peso igual a 480 g.\n",
    "\n",
    "Considerando um erro máximo associado à média populacional igual a 0,3 kg e um nível de confiança igual a 95%, qual tamanho de amostra deveria ser selecionado para obtermos uma estimativa confiável do parâmetro populacional?\n",
    "\n",
    "### $$n = \\frac{z^2 s^2 N}{z^2 s^2 + e^2(N-1)}$$"
   ]
  },
  {
   "cell_type": "code",
   "execution_count": 9,
   "id": "5c8b3a93",
   "metadata": {},
   "outputs": [],
   "source": [
    "N = 2000"
   ]
  },
  {
   "cell_type": "code",
   "execution_count": 10,
   "id": "be8a142c",
   "metadata": {},
   "outputs": [],
   "source": [
    "s = 480"
   ]
  },
  {
   "cell_type": "code",
   "execution_count": 12,
   "id": "73b82aa5",
   "metadata": {},
   "outputs": [],
   "source": [
    "e = 300 # 0,3k -> precisa passar para gramas"
   ]
  },
  {
   "cell_type": "code",
   "execution_count": 22,
   "id": "f125768e",
   "metadata": {},
   "outputs": [
    {
     "data": {
      "text/plain": [
       "1.959963984540054"
      ]
     },
     "execution_count": 22,
     "metadata": {},
     "output_type": "execute_result"
    }
   ],
   "source": [
    "from scipy.stats import norm\n",
    "z = norm.ppf(0.5+0.95 /2)\n",
    "z"
   ]
  },
  {
   "cell_type": "code",
   "execution_count": 25,
   "id": "792bebdc",
   "metadata": {},
   "outputs": [
    {
     "data": {
      "text/plain": [
       "10"
      ]
     },
     "execution_count": 25,
     "metadata": {},
     "output_type": "execute_result"
    }
   ],
   "source": [
    "n = ((z**2) * (s**2) * (N)) / (((z**2) * (s**2)) + ((e**2) * (N - 1)))\n",
    "int(n.round())"
   ]
  },
  {
   "cell_type": "code",
   "execution_count": 26,
   "id": "f3e79016",
   "metadata": {},
   "outputs": [
    {
     "name": "stdout",
     "output_type": "stream",
     "text": [
      "O tamanho da amostra deve ser de 10\n"
     ]
    }
   ],
   "source": [
    "print('O tamanho da amostra deve ser de %0.0f'%n)"
   ]
  },
  {
   "cell_type": "code",
   "execution_count": null,
   "id": "ca506e50",
   "metadata": {},
   "outputs": [],
   "source": []
  }
 ],
 "metadata": {
  "kernelspec": {
   "display_name": "Python 3 (ipykernel)",
   "language": "python",
   "name": "python3"
  },
  "language_info": {
   "codemirror_mode": {
    "name": "ipython",
    "version": 3
   },
   "file_extension": ".py",
   "mimetype": "text/x-python",
   "name": "python",
   "nbconvert_exporter": "python",
   "pygments_lexer": "ipython3",
   "version": "3.9.13"
  }
 },
 "nbformat": 4,
 "nbformat_minor": 5
}
