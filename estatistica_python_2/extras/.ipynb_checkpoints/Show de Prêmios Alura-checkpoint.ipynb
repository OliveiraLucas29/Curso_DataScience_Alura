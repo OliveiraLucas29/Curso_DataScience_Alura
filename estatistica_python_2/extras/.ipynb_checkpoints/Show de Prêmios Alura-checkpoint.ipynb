{
 "cells": [
  {
   "cell_type": "markdown",
   "id": "f3033a93",
   "metadata": {},
   "source": [
    "# Show de Prêmios Alura\n",
    "\n",
    "Suponha que acabamos de criar um jogo de loteria, chamado Show de prêmios da Alura. Neste nosso novo jogo, o apostador marca 20 números, dentre os 25 disponíveis no bilhete, e pode ganhar até 1 milhão de reais.\n",
    "\n",
    "Determine qual o número de combinações possíveis (espaço amostral) e a probabilidade de se ganhar o prêmio jogando apenas um bilhete (considere apenas quinze casas decimais)."
   ]
  },
  {
   "cell_type": "markdown",
   "id": "456b7978",
   "metadata": {},
   "source": [
    "## Importando bibliotecas necessárias"
   ]
  },
  {
   "cell_type": "code",
   "execution_count": 8,
   "id": "c13f09e5",
   "metadata": {},
   "outputs": [],
   "source": [
    "from scipy.special import comb"
   ]
  },
  {
   "cell_type": "markdown",
   "id": "92669ced",
   "metadata": {},
   "source": [
    "## Determinando o número de combinações possíveis\n",
    "\n",
    "Para fazer isso, usamos a seguinte fórmula:  \n",
    "### $$C_{k}^{n} = \\binom{n}{k} = \\frac{n!}{k!(n - k)!}$$\n",
    "\n",
    "- n é o número de eventos possíveis, no nosso caso é o número 25, pois é a quantidade de números disponíveis para o apostador escolher.\n",
    "- k é número de eventos que desejamos que sejam bem sucedido, que no caso do nosso problema é 20, a quantidade de números que o apostador irá escolher\n",
    "\n",
    "Poderiamos calcular isso manualmente, mas podemos fazer de maneira mais fácil usando o Python:"
   ]
  },
  {
   "cell_type": "code",
   "execution_count": 9,
   "id": "4be5ff53",
   "metadata": {},
   "outputs": [
    {
     "name": "stdout",
     "output_type": "stream",
     "text": [
      "A quantidade de combinações possíveis é: <function comb at 0x0000017FFB2FF940>\n"
     ]
    }
   ],
   "source": [
    "combi = comb(25, 20)\n",
    "print('A quantidade de combinações possíveis é:', comb)"
   ]
  },
  {
   "cell_type": "markdown",
   "id": "4f8be8a2",
   "metadata": {},
   "source": [
    "## Determinando a probabilidade de ganhar o prêmio jogando apenas um bilhete\n",
    "\n",
    "Para determinar a probabilidade, basta dividir o número de bilhetes jogados pela quantidade de combinações possíveis, então, para determinar a probabilidade de ganhar com apenas um bilhete vamos dividir 1 por 53.130; Só de falar já da pra perceber que é um número bem pequeno né..."
   ]
  },
  {
   "cell_type": "code",
   "execution_count": 26,
   "id": "ace17481",
   "metadata": {},
   "outputs": [
    {
     "name": "stdout",
     "output_type": "stream",
     "text": [
      "A probabilidade de ganhar o prêmio com apenas um bilhete é de: 1.8821757952192734e-05\n"
     ]
    }
   ],
   "source": [
    "prob = 1 / combi\n",
    "print ('A probabilidade de ganhar o prêmio com apenas um bilhete é de:',prob)"
   ]
  },
  {
   "cell_type": "markdown",
   "id": "f535558c",
   "metadata": {},
   "source": [
    "Eita, que número estrano é esse? pra ficar mais fácil de entender, vamos fazer uma formatação nesse número que irá deixar a sua visualização mais confortável:"
   ]
  },
  {
   "cell_type": "code",
   "execution_count": 25,
   "id": "9d7d7a48",
   "metadata": {},
   "outputs": [
    {
     "name": "stdout",
     "output_type": "stream",
     "text": [
      "A probabilidade de ganhar o prêmio com apenas um bilhete é de: 0.001882175795219\n"
     ]
    }
   ],
   "source": [
    "prob = (1 / combi)*100\n",
    "print ('A probabilidade de ganhar o prêmio com apenas um bilhete é de: %0.15f'%prob)"
   ]
  },
  {
   "cell_type": "markdown",
   "id": "b7a3b9ed",
   "metadata": {},
   "source": [
    "A chance de ganhar esse prêmio é muuuuuuuuito baixa! Será que vale a pena? Vou deixar você decidir por si mesmo... "
   ]
  },
  {
   "cell_type": "markdown",
   "id": "785b53b7",
   "metadata": {},
   "source": [
    "## Probabilidade de ganhar jogando vários bilhetes"
   ]
  },
  {
   "cell_type": "markdown",
   "id": "55e1c272",
   "metadata": {},
   "source": [
    "### 10 bilhetes"
   ]
  },
  {
   "cell_type": "code",
   "execution_count": 27,
   "id": "ab2d682f",
   "metadata": {},
   "outputs": [
    {
     "name": "stdout",
     "output_type": "stream",
     "text": [
      "A probabilidade de ganhar o prêmio com 10 bilhetes é de: 0.018821757952193\n"
     ]
    }
   ],
   "source": [
    "prob = (10 / combi)*100\n",
    "print ('A probabilidade de ganhar o prêmio com 10 bilhetes é de: %0.15f'%prob)"
   ]
  },
  {
   "cell_type": "markdown",
   "id": "d94518c4",
   "metadata": {},
   "source": [
    "### 100 biblhetes"
   ]
  },
  {
   "cell_type": "code",
   "execution_count": 28,
   "id": "85261a21",
   "metadata": {},
   "outputs": [
    {
     "name": "stdout",
     "output_type": "stream",
     "text": [
      "A probabilidade de ganhar o prêmio com 100 bilhetes é de: 0.188217579521927\n"
     ]
    }
   ],
   "source": [
    "prob = (100 / combi)*100\n",
    "print ('A probabilidade de ganhar o prêmio com 100 bilhetes é de: %0.15f'%prob)"
   ]
  },
  {
   "cell_type": "markdown",
   "id": "5e74a3de",
   "metadata": {},
   "source": [
    "### 1.000 bilhetes"
   ]
  },
  {
   "cell_type": "code",
   "execution_count": 29,
   "id": "f0c70a09",
   "metadata": {},
   "outputs": [
    {
     "name": "stdout",
     "output_type": "stream",
     "text": [
      "A probabilidade de ganhar o prêmio com 1000 bilhetes é de: 1.882175795219274\n"
     ]
    }
   ],
   "source": [
    "prob = (1000 / combi)*100\n",
    "print ('A probabilidade de ganhar o prêmio com 1000 bilhetes é de: %0.15f'%prob)"
   ]
  },
  {
   "cell_type": "markdown",
   "id": "003f1c84",
   "metadata": {},
   "source": [
    "### 10.000 bilhetes"
   ]
  },
  {
   "cell_type": "code",
   "execution_count": 30,
   "id": "fad901cc",
   "metadata": {},
   "outputs": [
    {
     "name": "stdout",
     "output_type": "stream",
     "text": [
      "A probabilidade de ganhar o prêmio com 10.000 bilhetes é de: 18.821757952192737\n"
     ]
    }
   ],
   "source": [
    "prob = (10000 / combi)*100\n",
    "print ('A probabilidade de ganhar o prêmio com 10.000 bilhetes é de: %0.15f'%prob)"
   ]
  },
  {
   "cell_type": "markdown",
   "id": "bd7c5f6e",
   "metadata": {},
   "source": [
    "Mesmo jogando 10.000 bilhetes a probabilidade de ganhar o prêmio é de apenas 18%, aproximadamente. Ainda acha que vale a pena?"
   ]
  }
 ],
 "metadata": {
  "kernelspec": {
   "display_name": "Python 3 (ipykernel)",
   "language": "python",
   "name": "python3"
  },
  "language_info": {
   "codemirror_mode": {
    "name": "ipython",
    "version": 3
   },
   "file_extension": ".py",
   "mimetype": "text/x-python",
   "name": "python",
   "nbconvert_exporter": "python",
   "pygments_lexer": "ipython3",
   "version": "3.9.13"
  }
 },
 "nbformat": 4,
 "nbformat_minor": 5
}
