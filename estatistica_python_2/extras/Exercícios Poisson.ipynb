{
 "cells": [
  {
   "cell_type": "markdown",
   "id": "ade3bf8f",
   "metadata": {},
   "source": [
    "# Estimativa de Clientes"
   ]
  },
  {
   "cell_type": "markdown",
   "id": "41cabd7f",
   "metadata": {},
   "source": [
    "O número médio de clientes que entram em uma padaria por hora é igual a 20. Obtenha a probabilidade de, na próxima hora, entrarem exatamente 25 clientes."
   ]
  },
  {
   "cell_type": "code",
   "execution_count": 16,
   "id": "78231f50",
   "metadata": {},
   "outputs": [],
   "source": [
    "mi = 20\n",
    "k = 25"
   ]
  },
  {
   "cell_type": "code",
   "execution_count": 17,
   "id": "95efc830",
   "metadata": {},
   "outputs": [],
   "source": [
    "from scipy.stats import poisson"
   ]
  },
  {
   "cell_type": "code",
   "execution_count": 27,
   "id": "80e956d1",
   "metadata": {},
   "outputs": [
    {
     "name": "stdout",
     "output_type": "stream",
     "text": [
      "A probabilidade de entrarem 25 clientes na padaria é de: 4.46\n"
     ]
    }
   ],
   "source": [
    "prob = (poisson.pmf(k,mi)) * 100\n",
    "print('A probabilidade de entrarem 25 clientes na padaria é de: %0.2f'%prob)"
   ]
  }
 ],
 "metadata": {
  "kernelspec": {
   "display_name": "Python 3 (ipykernel)",
   "language": "python",
   "name": "python3"
  },
  "language_info": {
   "codemirror_mode": {
    "name": "ipython",
    "version": 3
   },
   "file_extension": ".py",
   "mimetype": "text/x-python",
   "name": "python",
   "nbconvert_exporter": "python",
   "pygments_lexer": "ipython3",
   "version": "3.9.13"
  }
 },
 "nbformat": 4,
 "nbformat_minor": 5
}
