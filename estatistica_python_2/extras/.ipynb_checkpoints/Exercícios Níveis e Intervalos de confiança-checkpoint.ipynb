{
 "cells": [
  {
   "cell_type": "code",
   "execution_count": 2,
   "id": "4a974057",
   "metadata": {},
   "outputs": [],
   "source": [
    "import pandas as pd\n",
    "import numpy as np\n",
    "from scipy.stats import norm "
   ]
  },
  {
   "cell_type": "markdown",
   "id": "4ad08ea1",
   "metadata": {},
   "source": [
    "# Margem de Erro\n",
    "\n",
    "Para estimar o valor médio gasto por cada cliente de uma grande rede de fast-food, foi selecionada uma amostra de 50 clientes.\n",
    "\n",
    "Assumindo que o valor do desvio padrão da população seja de R$ 6,00 e que esta população se distribui normalmente, obtenha a margem de erro desta estimativa para um nível de confiança de 95%."
   ]
  },
  {
   "cell_type": "markdown",
   "id": "ca6e0608",
   "metadata": {},
   "source": [
    "## $$e = z \\frac{\\sigma}{\\sqrt{n}}$$"
   ]
  },
  {
   "cell_type": "code",
   "execution_count": 20,
   "id": "a8b01297",
   "metadata": {},
   "outputs": [],
   "source": [
    "n = 50"
   ]
  },
  {
   "cell_type": "code",
   "execution_count": 4,
   "id": "2b38731f",
   "metadata": {},
   "outputs": [],
   "source": [
    "desvio = 6"
   ]
  },
  {
   "cell_type": "code",
   "execution_count": 16,
   "id": "5ec11674",
   "metadata": {},
   "outputs": [],
   "source": [
    "Z = 1.96 # valor padrão pra nível de confiaça de 95%"
   ]
  },
  {
   "cell_type": "code",
   "execution_count": 13,
   "id": "3e484503",
   "metadata": {},
   "outputs": [],
   "source": [
    "sigma = desvio / np.sqrt(n)"
   ]
  },
  {
   "cell_type": "code",
   "execution_count": 15,
   "id": "5756584d",
   "metadata": {},
   "outputs": [
    {
     "data": {
      "text/plain": [
       "1.6631151493507597"
      ]
     },
     "execution_count": 15,
     "metadata": {},
     "output_type": "execute_result"
    }
   ],
   "source": [
    "e = Z * sigma\n",
    "e"
   ]
  },
  {
   "cell_type": "code",
   "execution_count": 19,
   "id": "3c3155e3",
   "metadata": {},
   "outputs": [
    {
     "name": "stdout",
     "output_type": "stream",
     "text": [
      "A margem de erro das estimativa é de 1.66 reais\n"
     ]
    }
   ],
   "source": [
    "print('A margem de erro das estimativa é de %0.2f reais'%e)"
   ]
  },
  {
   "cell_type": "markdown",
   "id": "35ed1d26",
   "metadata": {},
   "source": [
    "# Intervalo de Confiaça\n",
    "\n",
    "Uma amostra aleatória simples de 1976 itens de uma população normalmente distribuída, com desvio padrão populacional igual a 11, resultou em uma média amostral de 28.\n",
    "\n",
    "Qual o intervalo de confiança de 90% para a média populacional?"
   ]
  },
  {
   "cell_type": "markdown",
   "id": "4b1f56e5",
   "metadata": {},
   "source": [
    "## $$\\mu = \\bar{x} \\pm z\\frac{\\sigma}{\\sqrt{n}}$$"
   ]
  },
  {
   "cell_type": "code",
   "execution_count": 21,
   "id": "0ece466e",
   "metadata": {},
   "outputs": [],
   "source": [
    "n = 1976"
   ]
  },
  {
   "cell_type": "code",
   "execution_count": 22,
   "id": "08d229e8",
   "metadata": {},
   "outputs": [],
   "source": [
    "desvio = 11"
   ]
  },
  {
   "cell_type": "code",
   "execution_count": 23,
   "id": "2a9d38e2",
   "metadata": {},
   "outputs": [],
   "source": [
    "media = 28"
   ]
  },
  {
   "cell_type": "code",
   "execution_count": 24,
   "id": "6b440d36",
   "metadata": {},
   "outputs": [],
   "source": [
    "Z = 1.645"
   ]
  },
  {
   "cell_type": "code",
   "execution_count": 25,
   "id": "e8dab686",
   "metadata": {},
   "outputs": [],
   "source": [
    "sigma = desvio / np.sqrt(n)"
   ]
  },
  {
   "cell_type": "code",
   "execution_count": 26,
   "id": "e29a747e",
   "metadata": {},
   "outputs": [],
   "source": [
    "e = Z * sigma"
   ]
  },
  {
   "cell_type": "code",
   "execution_count": 43,
   "id": "86279878",
   "metadata": {},
   "outputs": [],
   "source": [
    "intervalo = norm.interval(confidence = 0.90, loc = media, scale = sigma)"
   ]
  },
  {
   "cell_type": "code",
   "execution_count": 40,
   "id": "0b32e397",
   "metadata": {},
   "outputs": [
    {
     "name": "stdout",
     "output_type": "stream",
     "text": [
      "O intervalo de confiança é de: (27.592969951356466, 28.407030048643534)\n"
     ]
    }
   ],
   "source": [
    "print('O intervalo de confiança é de:',intervalo)"
   ]
  }
 ],
 "metadata": {
  "kernelspec": {
   "display_name": "Python 3 (ipykernel)",
   "language": "python",
   "name": "python3"
  },
  "language_info": {
   "codemirror_mode": {
    "name": "ipython",
    "version": 3
   },
   "file_extension": ".py",
   "mimetype": "text/x-python",
   "name": "python",
   "nbconvert_exporter": "python",
   "pygments_lexer": "ipython3",
   "version": "3.9.13"
  }
 },
 "nbformat": 4,
 "nbformat_minor": 5
}
