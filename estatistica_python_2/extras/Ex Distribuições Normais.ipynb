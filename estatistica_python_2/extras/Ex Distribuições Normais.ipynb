{
 "cells": [
  {
   "cell_type": "markdown",
   "id": "c045e374",
   "metadata": {},
   "source": [
    "# Prova de Estatística"
   ]
  },
  {
   "cell_type": "markdown",
   "id": "02cc3767",
   "metadata": {},
   "source": [
    "A aplicação de uma prova de estatística em um concurso apresentou um conjunto de notas normalmente distribuídas. Verificou-se que o conjunto de notas tinha média 70 e desvio padrão de 5 pontos.\n",
    "\n",
    "Qual a probabilidade de um aluno, selecionado ao acaso, ter nota menor que 85?"
   ]
  },
  {
   "cell_type": "code",
   "execution_count": 1,
   "id": "af2f7913",
   "metadata": {},
   "outputs": [],
   "source": [
    "from scipy.stats import norm"
   ]
  },
  {
   "cell_type": "code",
   "execution_count": 2,
   "id": "abe1092a",
   "metadata": {},
   "outputs": [],
   "source": [
    "media = 70"
   ]
  },
  {
   "cell_type": "code",
   "execution_count": 3,
   "id": "8260ebdb",
   "metadata": {},
   "outputs": [],
   "source": [
    "desvio = 5"
   ]
  },
  {
   "cell_type": "code",
   "execution_count": 5,
   "id": "a752cba6",
   "metadata": {},
   "outputs": [
    {
     "data": {
      "text/plain": [
       "3.0"
      ]
     },
     "execution_count": 5,
     "metadata": {},
     "output_type": "execute_result"
    }
   ],
   "source": [
    "Z = (85 - media) / desvio\n",
    "Z"
   ]
  },
  {
   "cell_type": "code",
   "execution_count": 7,
   "id": "b8608605",
   "metadata": {},
   "outputs": [
    {
     "name": "stdout",
     "output_type": "stream",
     "text": [
      "A probabilidade de um aluno, selecionado ao acaso ter nota menor que 85 é de: 99.87\n"
     ]
    }
   ],
   "source": [
    "prob = norm.cdf(Z)*100\n",
    "print('A probabilidade de um aluno, selecionado ao acaso ter nota menor que 85 é de: %0.2f'%prob)"
   ]
  },
  {
   "cell_type": "markdown",
   "id": "429da01d",
   "metadata": {},
   "source": [
    "# Motorista de Aplicativo"
   ]
  },
  {
   "cell_type": "markdown",
   "id": "57157f86",
   "metadata": {},
   "source": [
    "O faturamento diário de um motorista de aplicativo segue uma distribuição aproximadamente normal, com média 300,00 e desvio padrão igual a 50,00. Obtenha as probabilidades de que, em um dia aleatório, o motorista ganhe:\n",
    "\n",
    "1) Entre 250,00 e 350,00 <br>\n",
    "2) Entre 400,00 e 500,00"
   ]
  },
  {
   "cell_type": "code",
   "execution_count": 12,
   "id": "fe749915",
   "metadata": {},
   "outputs": [],
   "source": [
    "from scipy.stats import norm"
   ]
  },
  {
   "cell_type": "markdown",
   "id": "dc6afc3f",
   "metadata": {},
   "source": [
    "## Problema 1"
   ]
  },
  {
   "cell_type": "code",
   "execution_count": 13,
   "id": "c1954685",
   "metadata": {},
   "outputs": [],
   "source": [
    "media = 300\n",
    "desvio = 50"
   ]
  },
  {
   "cell_type": "code",
   "execution_count": 16,
   "id": "0f744836",
   "metadata": {},
   "outputs": [
    {
     "data": {
      "text/plain": [
       "1.0"
      ]
     },
     "execution_count": 16,
     "metadata": {},
     "output_type": "execute_result"
    }
   ],
   "source": [
    "Z = (350 - media) / desvio\n",
    "Z"
   ]
  },
  {
   "cell_type": "code",
   "execution_count": 17,
   "id": "20c583c9",
   "metadata": {},
   "outputs": [
    {
     "data": {
      "text/plain": [
       "-1.0"
      ]
     },
     "execution_count": 17,
     "metadata": {},
     "output_type": "execute_result"
    }
   ],
   "source": [
    "z = (250 - media) / desvio\n",
    "z"
   ]
  },
  {
   "cell_type": "code",
   "execution_count": 18,
   "id": "5e9a3492",
   "metadata": {},
   "outputs": [
    {
     "name": "stdout",
     "output_type": "stream",
     "text": [
      "A probabilidade do motorista ganhar entre 250 e 350 é de: 68.27\n"
     ]
    }
   ],
   "source": [
    "prob = ((norm.cdf(Z)) - (norm.cdf(z))) * 100\n",
    "print('A probabilidade do motorista ganhar entre 250 e 350 é de: %0.2f'%prob)"
   ]
  },
  {
   "cell_type": "markdown",
   "id": "a0afcac9",
   "metadata": {},
   "source": [
    "## Problema 2"
   ]
  },
  {
   "cell_type": "code",
   "execution_count": 19,
   "id": "92ae6956",
   "metadata": {},
   "outputs": [],
   "source": [
    "media = 300\n",
    "desvio = 50"
   ]
  },
  {
   "cell_type": "code",
   "execution_count": 20,
   "id": "abab7f58",
   "metadata": {},
   "outputs": [
    {
     "data": {
      "text/plain": [
       "4.0"
      ]
     },
     "execution_count": 20,
     "metadata": {},
     "output_type": "execute_result"
    }
   ],
   "source": [
    "Z = (500 - media) / desvio\n",
    "Z"
   ]
  },
  {
   "cell_type": "code",
   "execution_count": 21,
   "id": "d6588661",
   "metadata": {},
   "outputs": [
    {
     "data": {
      "text/plain": [
       "2.0"
      ]
     },
     "execution_count": 21,
     "metadata": {},
     "output_type": "execute_result"
    }
   ],
   "source": [
    "z = (400 - media) / desvio\n",
    "z"
   ]
  },
  {
   "cell_type": "code",
   "execution_count": 22,
   "id": "d6ff6924",
   "metadata": {},
   "outputs": [
    {
     "name": "stdout",
     "output_type": "stream",
     "text": [
      "A probabilidade do motorista ganhar entre 250 e 350 é de: 2.27\n"
     ]
    }
   ],
   "source": [
    "prob = ((norm.cdf(Z)) - (norm.cdf(z))) * 100\n",
    "print('A probabilidade do motorista ganhar entre 250 e 350 é de: %0.2f'%prob)"
   ]
  },
  {
   "cell_type": "markdown",
   "id": "5bad3dc4",
   "metadata": {},
   "source": [
    "# Vida útil"
   ]
  },
  {
   "cell_type": "markdown",
   "id": "c050f1ef",
   "metadata": {},
   "source": [
    "O Inmetro verificou que as lâmpadas incandescentes da fabricante XPTO apresentam uma vida útil normalmente distribuída, com média igual a 720 dias e desvio padrão igual a 30 dias. Calcule a probabilidade de uma lâmpada, escolhida ao acaso, durar:\n",
    "1) Entre 650 e 750 dias\n",
    "\n",
    "2) Mais que 800 dias\n",
    "\n",
    "3) Menos que 700 dias"
   ]
  },
  {
   "cell_type": "code",
   "execution_count": 23,
   "id": "ac167065",
   "metadata": {},
   "outputs": [],
   "source": [
    "m = 720\n",
    "d = 30"
   ]
  },
  {
   "cell_type": "markdown",
   "id": "879a82f4",
   "metadata": {},
   "source": [
    "## Problema 1"
   ]
  },
  {
   "cell_type": "code",
   "execution_count": 27,
   "id": "c88bb8f7",
   "metadata": {},
   "outputs": [
    {
     "data": {
      "text/plain": [
       "(1.0, -2.3333333333333335)"
      ]
     },
     "execution_count": 27,
     "metadata": {},
     "output_type": "execute_result"
    }
   ],
   "source": [
    "Z = (750 - m) / d\n",
    "z = (650 - m) / d\n",
    "Z,z"
   ]
  },
  {
   "cell_type": "code",
   "execution_count": 28,
   "id": "0f92ce6d",
   "metadata": {},
   "outputs": [
    {
     "name": "stdout",
     "output_type": "stream",
     "text": [
      "A probabilidade de uma lâmpada durar entre 650 e 750 dias é de: 83.15\n"
     ]
    }
   ],
   "source": [
    "prob = (norm.cdf(Z) - norm.cdf(z))*100\n",
    "print('A probabilidade de uma lâmpada durar entre 650 e 750 dias é de: %0.2f'%prob)"
   ]
  },
  {
   "cell_type": "markdown",
   "id": "35037ffb",
   "metadata": {},
   "source": [
    "## Problema 2"
   ]
  },
  {
   "cell_type": "code",
   "execution_count": 29,
   "id": "fa43bda5",
   "metadata": {},
   "outputs": [
    {
     "data": {
      "text/plain": [
       "2.6666666666666665"
      ]
     },
     "execution_count": 29,
     "metadata": {},
     "output_type": "execute_result"
    }
   ],
   "source": [
    "Z = (800 - m) / d\n",
    "Z"
   ]
  },
  {
   "cell_type": "code",
   "execution_count": 32,
   "id": "00237eec",
   "metadata": {},
   "outputs": [
    {
     "name": "stdout",
     "output_type": "stream",
     "text": [
      "A probabilidade de uma lâmpada durar mais do que 800 dias é de: 0.38\n"
     ]
    }
   ],
   "source": [
    "prob = norm.cdf(-Z)*100\n",
    "print('A probabilidade de uma lâmpada durar mais do que 800 dias é de: %0.2f'%prob)"
   ]
  },
  {
   "cell_type": "markdown",
   "id": "ef826903",
   "metadata": {},
   "source": [
    "## Problema 3"
   ]
  },
  {
   "cell_type": "code",
   "execution_count": 33,
   "id": "9607050d",
   "metadata": {},
   "outputs": [
    {
     "data": {
      "text/plain": [
       "-0.6666666666666666"
      ]
     },
     "execution_count": 33,
     "metadata": {},
     "output_type": "execute_result"
    }
   ],
   "source": [
    "Z = (700 - m) / d\n",
    "Z"
   ]
  },
  {
   "cell_type": "code",
   "execution_count": 35,
   "id": "0da73d9d",
   "metadata": {},
   "outputs": [
    {
     "name": "stdout",
     "output_type": "stream",
     "text": [
      "A probabilidade de uma lâmpada durar menos do que 700 dias é de: 25.25\n"
     ]
    }
   ],
   "source": [
    "prob = norm.cdf(Z)*100\n",
    "print('A probabilidade de uma lâmpada durar menos do que 700 dias é de: %0.2f'%prob)"
   ]
  },
  {
   "cell_type": "markdown",
   "id": "3f38ce1a",
   "metadata": {},
   "source": [
    "# Obtendo Probabilidades"
   ]
  },
  {
   "cell_type": "markdown",
   "id": "413e240d",
   "metadata": {},
   "source": [
    "Utilizando a tabela padronizada, ou o ferramental disponibilizado pelo Python, encontre a área sob a curva normal para os valores de Z abaixo:"
   ]
  },
  {
   "cell_type": "markdown",
   "id": "c7ee0bd0",
   "metadata": {},
   "source": [
    "## Z < 1,96"
   ]
  },
  {
   "cell_type": "code",
   "execution_count": 37,
   "id": "fbf29eee",
   "metadata": {},
   "outputs": [
    {
     "data": {
      "text/plain": [
       "0.9750021048517795"
      ]
     },
     "execution_count": 37,
     "metadata": {},
     "output_type": "execute_result"
    }
   ],
   "source": [
    "p = norm.cdf(1.96)\n",
    "p"
   ]
  },
  {
   "cell_type": "markdown",
   "id": "d864bc8e",
   "metadata": {},
   "source": [
    "## Z > 2,15"
   ]
  },
  {
   "cell_type": "code",
   "execution_count": 40,
   "id": "befb04bf",
   "metadata": {},
   "outputs": [
    {
     "data": {
      "text/plain": [
       "0.015777607391090465"
      ]
     },
     "execution_count": 40,
     "metadata": {},
     "output_type": "execute_result"
    }
   ],
   "source": [
    "p = norm.cdf(-2.15)\n",
    "p"
   ]
  },
  {
   "cell_type": "markdown",
   "id": "c680af54",
   "metadata": {},
   "source": [
    "##  Z < -0,78"
   ]
  },
  {
   "cell_type": "code",
   "execution_count": 41,
   "id": "341e9c11",
   "metadata": {},
   "outputs": [
    {
     "data": {
      "text/plain": [
       "0.21769543758573312"
      ]
     },
     "execution_count": 41,
     "metadata": {},
     "output_type": "execute_result"
    }
   ],
   "source": [
    "p = norm.cdf(-0.78)\n",
    "p"
   ]
  },
  {
   "cell_type": "markdown",
   "id": "9a30a426",
   "metadata": {},
   "source": [
    "## Z > 0,59"
   ]
  },
  {
   "cell_type": "code",
   "execution_count": 42,
   "id": "9b0c2997",
   "metadata": {},
   "outputs": [
    {
     "data": {
      "text/plain": [
       "0.27759532475346493"
      ]
     },
     "execution_count": 42,
     "metadata": {},
     "output_type": "execute_result"
    }
   ],
   "source": [
    "p = norm.cdf(-0.59)\n",
    "p"
   ]
  }
 ],
 "metadata": {
  "kernelspec": {
   "display_name": "Python 3 (ipykernel)",
   "language": "python",
   "name": "python3"
  },
  "language_info": {
   "codemirror_mode": {
    "name": "ipython",
    "version": 3
   },
   "file_extension": ".py",
   "mimetype": "text/x-python",
   "name": "python",
   "nbconvert_exporter": "python",
   "pygments_lexer": "ipython3",
   "version": "3.9.13"
  }
 },
 "nbformat": 4,
 "nbformat_minor": 5
}
