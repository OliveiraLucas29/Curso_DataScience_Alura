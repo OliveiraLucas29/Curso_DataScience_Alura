{
 "cells": [
  {
   "cell_type": "markdown",
   "metadata": {},
   "source": [
    "<h1 style='color: blue; font-size: 34px; font-weight: bold;'> Planejamento de Experimentos \n",
    "</h1>\n"
   ]
  },
  {
   "cell_type": "markdown",
   "metadata": {},
   "source": [
    "# <font color='red' style='font-size: 30px;'>1.0 Introdução   </font>\n",
    "<hr style='border: 2px solid red;'>\n",
    "\n",
    "\n",
    "\n",
    "\n",
    "<p style='font-size: 18px; line-height: 2; margin: 0px 0px; text-align: justify; text-indent: 0px;'>    \n",
    "<i> “Chamar um especialista em estatística depois que o experimento foi feito pode ser o mesmo que pedir para ele fazer um exame post-mortem. Talvez ele consiga dizer do que foi que o experimento morreu.”  </i>     \n",
    "</p>    \n",
    "\n",
    "<p style='font-size: 18px; line-height: 2; margin: 0px 0px; text-align: right; text-indent: 0px;'>    \n",
    "    <b>Sir Ronald Fisher</b>  \n",
    "\n",
    "<hr>\n",
    "\n",
    "\n",
    "\n",
    "\n"
   ]
  },
  {
   "cell_type": "markdown",
   "metadata": {},
   "source": [
    "# <font color='red' style='font-size: 30px;'> Introdução à análise de experimentos   </font>\n",
    "<hr style='border: 2px solid red;'>"
   ]
  },
  {
   "cell_type": "markdown",
   "metadata": {},
   "source": [
    "# <font color = 'purple'> Inserindo o experimento num Data Frame </font>\n",
    "\n",
    "\n",
    "<p style='margin: 30px 30px;'>\n",
    "    \n",
    "<hr style = 'border: 1px solid purple;'>"
   ]
  },
  {
   "cell_type": "markdown",
   "metadata": {},
   "source": [
    "## Importando as bibliotecas "
   ]
  },
  {
   "cell_type": "markdown",
   "metadata": {},
   "source": [
    "### Pandas\n",
    "\n",
    "https://pandas.pydata.org/"
   ]
  },
  {
   "cell_type": "code",
   "execution_count": 1,
   "metadata": {},
   "outputs": [],
   "source": [
    "import pandas as pd"
   ]
  },
  {
   "cell_type": "markdown",
   "metadata": {},
   "source": [
    "### Numpy\n",
    "\n",
    "http://www.numpy.org/"
   ]
  },
  {
   "cell_type": "code",
   "execution_count": 2,
   "metadata": {},
   "outputs": [],
   "source": [
    "import numpy as np"
   ]
  },
  {
   "cell_type": "markdown",
   "metadata": {},
   "source": [
    "\n",
    "\n",
    "<p style='font-size: 18px; line-height: 2; margin: 0px 0px; text-align: justify; text-indent: 0px;'>\n",
    "    <font color=\"red\"> <b>Ensaios realizados na forma normalizada</b> \n",
    "\n",
    "\n",
    "<img width='800px' src='figuras/Figura_2.png'>\n",
    "\n",
    " \n",
    "   \n",
    "   \n",
    "    "
   ]
  },
  {
   "cell_type": "markdown",
   "metadata": {},
   "source": [
    "\n",
    "<p style='font-size: 18px; line-height: 2; margin: 0px 0px; text-align: justify; text-indent: 0px;'>\n",
    "<font color=\"MidnightBlue\"> Construindo uma matriz representando todos os ensaios realizados:\n"
   ]
  },
  {
   "cell_type": "code",
   "execution_count": 3,
   "metadata": {},
   "outputs": [
    {
     "data": {
      "text/plain": [
       "array([[-1, -1],\n",
       "       [ 1, -1],\n",
       "       [-1,  1],\n",
       "       [ 1,  1]])"
      ]
     },
     "execution_count": 3,
     "metadata": {},
     "output_type": "execute_result"
    }
   ],
   "source": [
    "ensaios = np.array([[-1,-1],[1,-1],[-1,1],[1,1]])\n",
    "ensaios"
   ]
  },
  {
   "cell_type": "markdown",
   "metadata": {},
   "source": [
    "### pyDOE2\n",
    "\n",
    "https://pypi.org/project/pyDOE2/"
   ]
  },
  {
   "cell_type": "code",
   "execution_count": 4,
   "metadata": {},
   "outputs": [
    {
     "name": "stdout",
     "output_type": "stream",
     "text": [
      "Requirement already satisfied: pyDOE2 in c:\\users\\olive\\anaconda3\\lib\\site-packages (1.3.0)\n",
      "Requirement already satisfied: scipy in c:\\users\\olive\\anaconda3\\lib\\site-packages (from pyDOE2) (1.9.1)\n",
      "Requirement already satisfied: numpy in c:\\users\\olive\\anaconda3\\lib\\site-packages (from pyDOE2) (1.21.5)\n"
     ]
    }
   ],
   "source": [
    "!pip install pyDOE2\n",
    "import pyDOE2 as doe"
   ]
  },
  {
   "cell_type": "markdown",
   "metadata": {},
   "source": [
    "## Costruindo um planejamento fatorial de 2²\n"
   ]
  },
  {
   "cell_type": "code",
   "execution_count": 5,
   "metadata": {},
   "outputs": [],
   "source": [
    "ensaios = doe.ff2n(2) # ff2n significa full factorial 2 level. O 2 entre parênteses é o número de variáveis manipuláveis (farinha e chocolate)"
   ]
  },
  {
   "cell_type": "code",
   "execution_count": 6,
   "metadata": {},
   "outputs": [
    {
     "data": {
      "text/plain": [
       "array([[-1., -1.],\n",
       "       [ 1., -1.],\n",
       "       [-1.,  1.],\n",
       "       [ 1.,  1.]])"
      ]
     },
     "execution_count": 6,
     "metadata": {},
     "output_type": "execute_result"
    }
   ],
   "source": [
    "ensaios"
   ]
  },
  {
   "cell_type": "markdown",
   "metadata": {},
   "source": [
    "## Incerindo o planejamento em um Data Frame"
   ]
  },
  {
   "cell_type": "code",
   "execution_count": 7,
   "metadata": {},
   "outputs": [],
   "source": [
    "df = pd.DataFrame(ensaios, columns=['farinha','chocolate'])"
   ]
  },
  {
   "cell_type": "code",
   "execution_count": 8,
   "metadata": {},
   "outputs": [
    {
     "data": {
      "text/html": [
       "<div>\n",
       "<style scoped>\n",
       "    .dataframe tbody tr th:only-of-type {\n",
       "        vertical-align: middle;\n",
       "    }\n",
       "\n",
       "    .dataframe tbody tr th {\n",
       "        vertical-align: top;\n",
       "    }\n",
       "\n",
       "    .dataframe thead th {\n",
       "        text-align: right;\n",
       "    }\n",
       "</style>\n",
       "<table border=\"1\" class=\"dataframe\">\n",
       "  <thead>\n",
       "    <tr style=\"text-align: right;\">\n",
       "      <th></th>\n",
       "      <th>farinha</th>\n",
       "      <th>chocolate</th>\n",
       "    </tr>\n",
       "  </thead>\n",
       "  <tbody>\n",
       "    <tr>\n",
       "      <th>0</th>\n",
       "      <td>-1.0</td>\n",
       "      <td>-1.0</td>\n",
       "    </tr>\n",
       "    <tr>\n",
       "      <th>1</th>\n",
       "      <td>1.0</td>\n",
       "      <td>-1.0</td>\n",
       "    </tr>\n",
       "    <tr>\n",
       "      <th>2</th>\n",
       "      <td>-1.0</td>\n",
       "      <td>1.0</td>\n",
       "    </tr>\n",
       "    <tr>\n",
       "      <th>3</th>\n",
       "      <td>1.0</td>\n",
       "      <td>1.0</td>\n",
       "    </tr>\n",
       "  </tbody>\n",
       "</table>\n",
       "</div>"
      ],
      "text/plain": [
       "   farinha  chocolate\n",
       "0     -1.0       -1.0\n",
       "1      1.0       -1.0\n",
       "2     -1.0        1.0\n",
       "3      1.0        1.0"
      ]
     },
     "execution_count": 8,
     "metadata": {},
     "output_type": "execute_result"
    }
   ],
   "source": [
    "df"
   ]
  },
  {
   "cell_type": "markdown",
   "metadata": {},
   "source": [
    "### Inserindo coluna com os resultados "
   ]
  },
  {
   "cell_type": "code",
   "execution_count": 9,
   "metadata": {},
   "outputs": [],
   "source": [
    "df['porcoes'] = [19,37,24,49]"
   ]
  },
  {
   "cell_type": "code",
   "execution_count": 10,
   "metadata": {},
   "outputs": [
    {
     "data": {
      "text/html": [
       "<div>\n",
       "<style scoped>\n",
       "    .dataframe tbody tr th:only-of-type {\n",
       "        vertical-align: middle;\n",
       "    }\n",
       "\n",
       "    .dataframe tbody tr th {\n",
       "        vertical-align: top;\n",
       "    }\n",
       "\n",
       "    .dataframe thead th {\n",
       "        text-align: right;\n",
       "    }\n",
       "</style>\n",
       "<table border=\"1\" class=\"dataframe\">\n",
       "  <thead>\n",
       "    <tr style=\"text-align: right;\">\n",
       "      <th></th>\n",
       "      <th>farinha</th>\n",
       "      <th>chocolate</th>\n",
       "      <th>porcoes</th>\n",
       "    </tr>\n",
       "  </thead>\n",
       "  <tbody>\n",
       "    <tr>\n",
       "      <th>0</th>\n",
       "      <td>-1.0</td>\n",
       "      <td>-1.0</td>\n",
       "      <td>19</td>\n",
       "    </tr>\n",
       "    <tr>\n",
       "      <th>1</th>\n",
       "      <td>1.0</td>\n",
       "      <td>-1.0</td>\n",
       "      <td>37</td>\n",
       "    </tr>\n",
       "    <tr>\n",
       "      <th>2</th>\n",
       "      <td>-1.0</td>\n",
       "      <td>1.0</td>\n",
       "      <td>24</td>\n",
       "    </tr>\n",
       "    <tr>\n",
       "      <th>3</th>\n",
       "      <td>1.0</td>\n",
       "      <td>1.0</td>\n",
       "      <td>49</td>\n",
       "    </tr>\n",
       "  </tbody>\n",
       "</table>\n",
       "</div>"
      ],
      "text/plain": [
       "   farinha  chocolate  porcoes\n",
       "0     -1.0       -1.0       19\n",
       "1      1.0       -1.0       37\n",
       "2     -1.0        1.0       24\n",
       "3      1.0        1.0       49"
      ]
     },
     "execution_count": 10,
     "metadata": {},
     "output_type": "execute_result"
    }
   ],
   "source": [
    "df"
   ]
  },
  {
   "cell_type": "markdown",
   "metadata": {},
   "source": [
    "<hr>\n",
    "<p style='font-size: 18px; line-height: 2; margin: 0px 0px; text-align: justify; text-indent: 0px;'>\n",
    "    <font color=\"MidnightBlue\"> <b>Conclusão:</b> Temos, por fim, nosso experimento representado por um <i>DataFrame</i> do Pandas. Usaremos este <i>DataFrame</i> para iniciarmos a análise do nosso experimento. \n",
    "    \n",
    "<hr>   "
   ]
  },
  {
   "cell_type": "markdown",
   "metadata": {},
   "source": [
    "# <font color = 'purple'> Analisando graficamente o experimento   </font>\n",
    "\n",
    "\n",
    "<p style='margin: 30px 30px;'>\n",
    "    \n",
    "<hr style = 'border: 1px solid purple;'>"
   ]
  },
  {
   "cell_type": "markdown",
   "metadata": {},
   "source": [
    "###  Importando o Seaborn\n",
    "\n",
    "https://seaborn.pydata.org"
   ]
  },
  {
   "cell_type": "code",
   "execution_count": 43,
   "metadata": {},
   "outputs": [],
   "source": [
    "import matplotlib.pyplot as plt\n",
    "import seaborn as sns\n",
    "%matplotlib inline\n",
    "sns.set_theme(context='notebook', style='whitegrid', palette='hsv')"
   ]
  },
  {
   "cell_type": "code",
   "execution_count": 12,
   "metadata": {},
   "outputs": [],
   "source": [
    "# paletas -> Accent, Accent_r, Blues, Blues_r, BrBG, BrBG_r, BuGn, BuGn_r, BuPu, BuPu_r, CMRmap, CMRmap_r, Dark2, Dark2_r, GnBu, GnBu_r, Greens, Greens_r, Greys, Greys_r, OrRd, OrRd_r, Oranges, Oranges_r, PRGn, PRGn_r, Paired, Paired_r, Pastel1, Pastel1_r, Pastel2, Pastel2_r, PiYG, PiYG_r, PuBu, PuBuGn, PuBuGn_r, PuBu_r, PuOr, PuOr_r, PuRd, PuRd_r, Purples, Purples_r, RdBu, RdBu_r, RdGy, RdGy_r, RdPu, RdPu_r, RdYlBu, RdYlBu_r, RdYlGn, RdYlGn_r, Reds, Reds_r, Set1, Set1_r, Set2, Set2_r, Set3, Set3_r, Spectral, Spectral_r, Wistia, Wistia_r, YlGn, YlGnBu, YlGnBu_r, YlGn_r, YlOrBr, YlOrBr_r, YlOrRd, YlOrRd_r, afmhot, afmhot_r, autumn, autumn_r, binary, binary_r, bone, bone_r, brg, brg_r, bwr, bwr_r, cividis, cividis_r, cool, cool_r, coolwarm, coolwarm_r, copper, copper_r, cubehelix, cubehelix_r, flag, flag_r, gist_earth, gist_earth_r, gist_gray, gist_gray_r, gist_heat, gist_heat_r, gist_ncar, gist_ncar_r, gist_rainbow, gist_rainbow_r, gist_stern, gist_stern_r, gist_yarg, gist_yarg_r, gnuplot, gnuplot2, gnuplot2_r, gnuplot_r, gray, gray_r, hot, hot_r, hsv, hsv_r, icefire, icefire_r, inferno, inferno_r, jet, jet_r, magma, magma_r, mako, mako_r, nipy_spectral, nipy_spectral_r, ocean, ocean_r, pink, pink_r, plasma, plasma_r, prism, prism_r, rainbow, rainbow_r, rocket, rocket_r, seismic, seismic_r, spring, spring_r, summer, summer_r, tab10, tab10_r, tab20, tab20_r, tab20b, tab20b_r, tab20c, tab20c_r, terrain, terrain_r, viridis, viridis_r, vlag, vlag_r, winter, winter_r\n",
    "# estilo -> white, dark, whitegrid, darkgrid, ticks"
   ]
  },
  {
   "cell_type": "markdown",
   "metadata": {},
   "source": [
    "### Para a farinha"
   ]
  },
  {
   "cell_type": "code",
   "execution_count": 13,
   "metadata": {},
   "outputs": [
    {
     "data": {
      "text/plain": [
       "<seaborn.axisgrid.FacetGrid at 0x2078483f370>"
      ]
     },
     "execution_count": 13,
     "metadata": {},
     "output_type": "execute_result"
    },
    {
     "data": {
      "image/png": "[encoded data removed]",
      "text/plain": [
       "<Figure size 583.347x500 with 1 Axes>"
      ]
     },
     "metadata": {},
     "output_type": "display_data"
    }
   ],
   "source": [
    "ax1 = sns.lmplot(data = df, x = 'farinha', y = 'porcoes', ci=None, hue = 'chocolate')\n",
    "ax1.set(title='Influência da Farinha na quantidade de Porções', xlabel='Farinha',ylabel='Porções', xticks=(-1,1))"
   ]
  },
  {
   "cell_type": "markdown",
   "metadata": {},
   "source": [
    "### Para o chocolate"
   ]
  },
  {
   "cell_type": "code",
   "execution_count": 14,
   "metadata": {},
   "outputs": [
    {
     "data": {
      "text/plain": [
       "<seaborn.axisgrid.FacetGrid at 0x207854096a0>"
      ]
     },
     "execution_count": 14,
     "metadata": {},
     "output_type": "execute_result"
    },
    {
     "data": {
      "image/png": "[encoded data removed]",
      "text/plain": [
       "<Figure size 581.375x500 with 1 Axes>"
      ]
     },
     "metadata": {},
     "output_type": "display_data"
    }
   ],
   "source": [
    "ax2 = sns.lmplot(data = df, x = 'chocolate', y = 'porcoes', ci=None, hue = 'farinha')\n",
    "ax2.set(title='Influência do Chocolate na quantidade de Porções', xlabel='Chocolate',ylabel='Porções', xticks=(-1,1))"
   ]
  },
  {
   "cell_type": "markdown",
   "metadata": {},
   "source": [
    "# <font color = 'purple'> Ajustando o modelo estatístico </font>\n",
    "\n",
    "\n",
    "<p style='margin: 30px 30px;'>\n",
    "    \n",
    "<hr style = 'border: 1px solid purple;'>"
   ]
  },
  {
   "cell_type": "markdown",
   "metadata": {},
   "source": [
    "<hr>\n",
    "\n",
    "<img width='800px' src='figuras/Figura_3.png'>\n",
    "\n",
    "<p style='margin: 30px 30px;'> \n",
    "\n",
    "<hr>\n"
   ]
  },
  {
   "cell_type": "markdown",
   "metadata": {},
   "source": [
    "### Bibliotecas  Stats Model\n"
   ]
  },
  {
   "cell_type": "code",
   "execution_count": 16,
   "metadata": {},
   "outputs": [],
   "source": [
    "import statsmodels.api as sm\n",
    "import statsmodels.formula.api as smf"
   ]
  },
  {
   "cell_type": "markdown",
   "metadata": {},
   "source": [
    "### ."
   ]
  },
  {
   "cell_type": "code",
   "execution_count": 18,
   "metadata": {},
   "outputs": [],
   "source": [
    "modelo = smf.ols(data = df, formula = 'porcoes ~ farinha + chocolate + farinha:chocolate')\n",
    "# ~ representa o sinal de =. Ao escrever a fórmula, informamos apenas os efeitos isolados e de interação\n",
    "# O intercepto e erro não precisam ser infromados e serão calculados automaticamente pelo statsmodels"
   ]
  },
  {
   "cell_type": "code",
   "execution_count": 21,
   "metadata": {},
   "outputs": [],
   "source": [
    "modelo = modelo.fit()"
   ]
  },
  {
   "cell_type": "code",
   "execution_count": 24,
   "metadata": {},
   "outputs": [
    {
     "name": "stderr",
     "output_type": "stream",
     "text": [
      "C:\\Users\\olive\\anaconda3\\lib\\site-packages\\statsmodels\\stats\\stattools.py:74: ValueWarning: omni_normtest is not valid with less than 8 observations; 4 samples were given.\n",
      "  warn(\"omni_normtest is not valid with less than 8 observations; %i \"\n"
     ]
    },
    {
     "data": {
      "text/html": [
       "<table class=\"simpletable\">\n",
       "<caption>OLS Regression Results</caption>\n",
       "<tr>\n",
       "  <th>Dep. Variable:</th>         <td>porcoes</td>     <th>  R-squared:         </th> <td>   1.000</td>\n",
       "</tr>\n",
       "<tr>\n",
       "  <th>Model:</th>                   <td>OLS</td>       <th>  Adj. R-squared:    </th> <td>     nan</td>\n",
       "</tr>\n",
       "<tr>\n",
       "  <th>Method:</th>             <td>Least Squares</td>  <th>  F-statistic:       </th> <td>     nan</td>\n",
       "</tr>\n",
       "<tr>\n",
       "  <th>Date:</th>             <td>Tue, 18 Jul 2023</td> <th>  Prob (F-statistic):</th>  <td>   nan</td> \n",
       "</tr>\n",
       "<tr>\n",
       "  <th>Time:</th>                 <td>14:33:46</td>     <th>  Log-Likelihood:    </th> <td>  126.02</td>\n",
       "</tr>\n",
       "<tr>\n",
       "  <th>No. Observations:</th>      <td>     4</td>      <th>  AIC:               </th> <td>  -244.0</td>\n",
       "</tr>\n",
       "<tr>\n",
       "  <th>Df Residuals:</th>          <td>     0</td>      <th>  BIC:               </th> <td>  -246.5</td>\n",
       "</tr>\n",
       "<tr>\n",
       "  <th>Df Model:</th>              <td>     3</td>      <th>                     </th>     <td> </td>   \n",
       "</tr>\n",
       "<tr>\n",
       "  <th>Covariance Type:</th>      <td>nonrobust</td>    <th>                     </th>     <td> </td>   \n",
       "</tr>\n",
       "</table>\n",
       "<table class=\"simpletable\">\n",
       "<tr>\n",
       "          <td></td>             <th>coef</th>     <th>std err</th>      <th>t</th>      <th>P>|t|</th>  <th>[0.025</th>    <th>0.975]</th>  \n",
       "</tr>\n",
       "<tr>\n",
       "  <th>Intercept</th>         <td>   32.2500</td> <td>      inf</td> <td>        0</td> <td>   nan</td> <td>      nan</td> <td>      nan</td>\n",
       "</tr>\n",
       "<tr>\n",
       "  <th>farinha</th>           <td>   10.7500</td> <td>      inf</td> <td>        0</td> <td>   nan</td> <td>      nan</td> <td>      nan</td>\n",
       "</tr>\n",
       "<tr>\n",
       "  <th>chocolate</th>         <td>    4.2500</td> <td>      inf</td> <td>        0</td> <td>   nan</td> <td>      nan</td> <td>      nan</td>\n",
       "</tr>\n",
       "<tr>\n",
       "  <th>farinha:chocolate</th> <td>    1.7500</td> <td>      inf</td> <td>        0</td> <td>   nan</td> <td>      nan</td> <td>      nan</td>\n",
       "</tr>\n",
       "</table>\n",
       "<table class=\"simpletable\">\n",
       "<tr>\n",
       "  <th>Omnibus:</th>       <td>   nan</td> <th>  Durbin-Watson:     </th> <td>   1.500</td>\n",
       "</tr>\n",
       "<tr>\n",
       "  <th>Prob(Omnibus):</th> <td>   nan</td> <th>  Jarque-Bera (JB):  </th> <td>   0.167</td>\n",
       "</tr>\n",
       "<tr>\n",
       "  <th>Skew:</th>          <td> 0.000</td> <th>  Prob(JB):          </th> <td>   0.920</td>\n",
       "</tr>\n",
       "<tr>\n",
       "  <th>Kurtosis:</th>      <td> 2.000</td> <th>  Cond. No.          </th> <td>    1.00</td>\n",
       "</tr>\n",
       "</table><br/><br/>Notes:<br/>[1] Standard Errors assume that the covariance matrix of the errors is correctly specified."
      ],
      "text/plain": [
       "<class 'statsmodels.iolib.summary.Summary'>\n",
       "\"\"\"\n",
       "                            OLS Regression Results                            \n",
       "==============================================================================\n",
       "Dep. Variable:                porcoes   R-squared:                       1.000\n",
       "Model:                            OLS   Adj. R-squared:                    nan\n",
       "Method:                 Least Squares   F-statistic:                       nan\n",
       "Date:                Tue, 18 Jul 2023   Prob (F-statistic):                nan\n",
       "Time:                        14:33:46   Log-Likelihood:                 126.02\n",
       "No. Observations:                   4   AIC:                            -244.0\n",
       "Df Residuals:                       0   BIC:                            -246.5\n",
       "Df Model:                           3                                         \n",
       "Covariance Type:            nonrobust                                         \n",
       "=====================================================================================\n",
       "                        coef    std err          t      P>|t|      [0.025      0.975]\n",
       "-------------------------------------------------------------------------------------\n",
       "Intercept            32.2500        inf          0        nan         nan         nan\n",
       "farinha              10.7500        inf          0        nan         nan         nan\n",
       "chocolate             4.2500        inf          0        nan         nan         nan\n",
       "farinha:chocolate     1.7500        inf          0        nan         nan         nan\n",
       "==============================================================================\n",
       "Omnibus:                          nan   Durbin-Watson:                   1.500\n",
       "Prob(Omnibus):                    nan   Jarque-Bera (JB):                0.167\n",
       "Skew:                           0.000   Prob(JB):                        0.920\n",
       "Kurtosis:                       2.000   Cond. No.                         1.00\n",
       "==============================================================================\n",
       "\n",
       "Notes:\n",
       "[1] Standard Errors assume that the covariance matrix of the errors is correctly specified.\n",
       "\"\"\""
      ]
     },
     "execution_count": 24,
     "metadata": {},
     "output_type": "execute_result"
    }
   ],
   "source": [
    "modelo.summary()"
   ]
  },
  {
   "cell_type": "markdown",
   "metadata": {},
   "source": [
    "# <font color = 'purple'> Aumentando os Graus de liberdade  </font>\n",
    "\n",
    "\n",
    "<p style='margin: 30px 30px;'>\n",
    "    \n",
    "<hr style = 'border: 1px solid purple;'>\n",
    "\n",
    "\n",
    "\n",
    "<p style='margin: 30px 30px;'>     \n",
    "    \n"
   ]
  },
  {
   "cell_type": "markdown",
   "metadata": {},
   "source": [
    "<hr>\n",
    "\n",
    "\n",
    "<p style='font-size: 18px; line-height: 2; margin: 0px 0px; text-align: justify; text-indent: 0px;'>\n",
    "    <font color=\"red\"> <b>Replicatas no centro</b>\n",
    "\n",
    "\n",
    "<img width='800px' src='figuras/Figura_5.png'> \n",
    "\n",
    "\n",
    "<p style='margin: 30px 30px;'> \n",
    "    \n",
    "    \n",
    " \n",
    "    \n",
    "\n",
    "    \n",
    "<hr>    "
   ]
  },
  {
   "cell_type": "code",
   "execution_count": 26,
   "metadata": {},
   "outputs": [],
   "source": [
    "centro = np.array([[0,0,29],\n",
    "                   [0,0,30],\n",
    "                   [0,0,29],\n",
    "                   [0,0,30]])"
   ]
  },
  {
   "cell_type": "code",
   "execution_count": 27,
   "metadata": {},
   "outputs": [],
   "source": [
    "centro_df = pd.DataFrame(centro, columns=['farinha','chocolate', 'porcoes'], index = [4,5,6,7])"
   ]
  },
  {
   "cell_type": "code",
   "execution_count": 29,
   "metadata": {},
   "outputs": [
    {
     "name": "stderr",
     "output_type": "stream",
     "text": [
      "C:\\Users\\olive\\AppData\\Local\\Temp\\ipykernel_11168\\885581157.py:1: FutureWarning: The frame.append method is deprecated and will be removed from pandas in a future version. Use pandas.concat instead.\n",
      "  df = df.append(centro_df)\n"
     ]
    }
   ],
   "source": [
    "df = df.append(centro_df)"
   ]
  },
  {
   "cell_type": "markdown",
   "metadata": {},
   "source": [
    "### ."
   ]
  },
  {
   "cell_type": "code",
   "execution_count": 30,
   "metadata": {},
   "outputs": [
    {
     "data": {
      "text/html": [
       "<div>\n",
       "<style scoped>\n",
       "    .dataframe tbody tr th:only-of-type {\n",
       "        vertical-align: middle;\n",
       "    }\n",
       "\n",
       "    .dataframe tbody tr th {\n",
       "        vertical-align: top;\n",
       "    }\n",
       "\n",
       "    .dataframe thead th {\n",
       "        text-align: right;\n",
       "    }\n",
       "</style>\n",
       "<table border=\"1\" class=\"dataframe\">\n",
       "  <thead>\n",
       "    <tr style=\"text-align: right;\">\n",
       "      <th></th>\n",
       "      <th>farinha</th>\n",
       "      <th>chocolate</th>\n",
       "      <th>porcoes</th>\n",
       "    </tr>\n",
       "  </thead>\n",
       "  <tbody>\n",
       "    <tr>\n",
       "      <th>0</th>\n",
       "      <td>-1.0</td>\n",
       "      <td>-1.0</td>\n",
       "      <td>19</td>\n",
       "    </tr>\n",
       "    <tr>\n",
       "      <th>1</th>\n",
       "      <td>1.0</td>\n",
       "      <td>-1.0</td>\n",
       "      <td>37</td>\n",
       "    </tr>\n",
       "    <tr>\n",
       "      <th>2</th>\n",
       "      <td>-1.0</td>\n",
       "      <td>1.0</td>\n",
       "      <td>24</td>\n",
       "    </tr>\n",
       "    <tr>\n",
       "      <th>3</th>\n",
       "      <td>1.0</td>\n",
       "      <td>1.0</td>\n",
       "      <td>49</td>\n",
       "    </tr>\n",
       "    <tr>\n",
       "      <th>4</th>\n",
       "      <td>0.0</td>\n",
       "      <td>0.0</td>\n",
       "      <td>29</td>\n",
       "    </tr>\n",
       "    <tr>\n",
       "      <th>5</th>\n",
       "      <td>0.0</td>\n",
       "      <td>0.0</td>\n",
       "      <td>30</td>\n",
       "    </tr>\n",
       "    <tr>\n",
       "      <th>6</th>\n",
       "      <td>0.0</td>\n",
       "      <td>0.0</td>\n",
       "      <td>29</td>\n",
       "    </tr>\n",
       "    <tr>\n",
       "      <th>7</th>\n",
       "      <td>0.0</td>\n",
       "      <td>0.0</td>\n",
       "      <td>30</td>\n",
       "    </tr>\n",
       "  </tbody>\n",
       "</table>\n",
       "</div>"
      ],
      "text/plain": [
       "   farinha  chocolate  porcoes\n",
       "0     -1.0       -1.0       19\n",
       "1      1.0       -1.0       37\n",
       "2     -1.0        1.0       24\n",
       "3      1.0        1.0       49\n",
       "4      0.0        0.0       29\n",
       "5      0.0        0.0       30\n",
       "6      0.0        0.0       29\n",
       "7      0.0        0.0       30"
      ]
     },
     "execution_count": 30,
     "metadata": {},
     "output_type": "execute_result"
    }
   ],
   "source": [
    "df"
   ]
  },
  {
   "cell_type": "markdown",
   "metadata": {},
   "source": [
    "# <font color = 'purple'>  Análise de significância estatística   </font>\n",
    "\n",
    "\n",
    "<p style='margin: 30px 30px;'>\n",
    "    \n",
    "<hr style = 'border: 1px solid purple;'>"
   ]
  },
  {
   "cell_type": "code",
   "execution_count": 31,
   "metadata": {},
   "outputs": [],
   "source": [
    "modelo = smf.ols(data = df, formula = 'porcoes ~ farinha + chocolate + farinha:chocolate')"
   ]
  },
  {
   "cell_type": "code",
   "execution_count": 32,
   "metadata": {},
   "outputs": [],
   "source": [
    "modelo = modelo.fit()"
   ]
  },
  {
   "cell_type": "code",
   "execution_count": 33,
   "metadata": {},
   "outputs": [
    {
     "name": "stderr",
     "output_type": "stream",
     "text": [
      "C:\\Users\\olive\\anaconda3\\lib\\site-packages\\scipy\\stats\\_stats_py.py:1769: UserWarning: kurtosistest only valid for n>=20 ... continuing anyway, n=8\n",
      "  warnings.warn(\"kurtosistest only valid for n>=20 ... continuing \"\n"
     ]
    },
    {
     "data": {
      "text/html": [
       "<table class=\"simpletable\">\n",
       "<caption>OLS Regression Results</caption>\n",
       "<tr>\n",
       "  <th>Dep. Variable:</th>         <td>porcoes</td>     <th>  R-squared:         </th> <td>   0.971</td>\n",
       "</tr>\n",
       "<tr>\n",
       "  <th>Model:</th>                   <td>OLS</td>       <th>  Adj. R-squared:    </th> <td>   0.950</td>\n",
       "</tr>\n",
       "<tr>\n",
       "  <th>Method:</th>             <td>Least Squares</td>  <th>  F-statistic:       </th> <td>   45.21</td>\n",
       "</tr>\n",
       "<tr>\n",
       "  <th>Date:</th>             <td>Tue, 18 Jul 2023</td> <th>  Prob (F-statistic):</th>  <td>0.00152</td>\n",
       "</tr>\n",
       "<tr>\n",
       "  <th>Time:</th>                 <td>14:49:00</td>     <th>  Log-Likelihood:    </th> <td> -14.155</td>\n",
       "</tr>\n",
       "<tr>\n",
       "  <th>No. Observations:</th>      <td>     8</td>      <th>  AIC:               </th> <td>   36.31</td>\n",
       "</tr>\n",
       "<tr>\n",
       "  <th>Df Residuals:</th>          <td>     4</td>      <th>  BIC:               </th> <td>   36.63</td>\n",
       "</tr>\n",
       "<tr>\n",
       "  <th>Df Model:</th>              <td>     3</td>      <th>                     </th>     <td> </td>   \n",
       "</tr>\n",
       "<tr>\n",
       "  <th>Covariance Type:</th>      <td>nonrobust</td>    <th>                     </th>     <td> </td>   \n",
       "</tr>\n",
       "</table>\n",
       "<table class=\"simpletable\">\n",
       "<tr>\n",
       "          <td></td>             <th>coef</th>     <th>std err</th>      <th>t</th>      <th>P>|t|</th>  <th>[0.025</th>    <th>0.975]</th>  \n",
       "</tr>\n",
       "<tr>\n",
       "  <th>Intercept</th>         <td>   30.8750</td> <td>    0.710</td> <td>   43.494</td> <td> 0.000</td> <td>   28.904</td> <td>   32.846</td>\n",
       "</tr>\n",
       "<tr>\n",
       "  <th>farinha</th>           <td>   10.7500</td> <td>    1.004</td> <td>   10.708</td> <td> 0.000</td> <td>    7.963</td> <td>   13.537</td>\n",
       "</tr>\n",
       "<tr>\n",
       "  <th>chocolate</th>         <td>    4.2500</td> <td>    1.004</td> <td>    4.233</td> <td> 0.013</td> <td>    1.463</td> <td>    7.037</td>\n",
       "</tr>\n",
       "<tr>\n",
       "  <th>farinha:chocolate</th> <td>    1.7500</td> <td>    1.004</td> <td>    1.743</td> <td> 0.156</td> <td>   -1.037</td> <td>    4.537</td>\n",
       "</tr>\n",
       "</table>\n",
       "<table class=\"simpletable\">\n",
       "<tr>\n",
       "  <th>Omnibus:</th>       <td> 4.655</td> <th>  Durbin-Watson:     </th> <td>   0.841</td>\n",
       "</tr>\n",
       "<tr>\n",
       "  <th>Prob(Omnibus):</th> <td> 0.098</td> <th>  Jarque-Bera (JB):  </th> <td>   1.080</td>\n",
       "</tr>\n",
       "<tr>\n",
       "  <th>Skew:</th>          <td>-0.180</td> <th>  Prob(JB):          </th> <td>   0.583</td>\n",
       "</tr>\n",
       "<tr>\n",
       "  <th>Kurtosis:</th>      <td> 1.237</td> <th>  Cond. No.          </th> <td>    1.41</td>\n",
       "</tr>\n",
       "</table><br/><br/>Notes:<br/>[1] Standard Errors assume that the covariance matrix of the errors is correctly specified."
      ],
      "text/plain": [
       "<class 'statsmodels.iolib.summary.Summary'>\n",
       "\"\"\"\n",
       "                            OLS Regression Results                            \n",
       "==============================================================================\n",
       "Dep. Variable:                porcoes   R-squared:                       0.971\n",
       "Model:                            OLS   Adj. R-squared:                  0.950\n",
       "Method:                 Least Squares   F-statistic:                     45.21\n",
       "Date:                Tue, 18 Jul 2023   Prob (F-statistic):            0.00152\n",
       "Time:                        14:49:00   Log-Likelihood:                -14.155\n",
       "No. Observations:                   8   AIC:                             36.31\n",
       "Df Residuals:                       4   BIC:                             36.63\n",
       "Df Model:                           3                                         \n",
       "Covariance Type:            nonrobust                                         \n",
       "=====================================================================================\n",
       "                        coef    std err          t      P>|t|      [0.025      0.975]\n",
       "-------------------------------------------------------------------------------------\n",
       "Intercept            30.8750      0.710     43.494      0.000      28.904      32.846\n",
       "farinha              10.7500      1.004     10.708      0.000       7.963      13.537\n",
       "chocolate             4.2500      1.004      4.233      0.013       1.463       7.037\n",
       "farinha:chocolate     1.7500      1.004      1.743      0.156      -1.037       4.537\n",
       "==============================================================================\n",
       "Omnibus:                        4.655   Durbin-Watson:                   0.841\n",
       "Prob(Omnibus):                  0.098   Jarque-Bera (JB):                1.080\n",
       "Skew:                          -0.180   Prob(JB):                        0.583\n",
       "Kurtosis:                       1.237   Cond. No.                         1.41\n",
       "==============================================================================\n",
       "\n",
       "Notes:\n",
       "[1] Standard Errors assume that the covariance matrix of the errors is correctly specified.\n",
       "\"\"\""
      ]
     },
     "execution_count": 33,
     "metadata": {},
     "output_type": "execute_result"
    }
   ],
   "source": [
    "modelo.summary()"
   ]
  },
  {
   "cell_type": "markdown",
   "metadata": {},
   "source": [
    "<p style='margin: 200px 200px;'>    \n",
    "\n",
    "\n",
    "<hr>\n",
    "\n",
    "\n",
    "    \n",
    " <img width='400px' src='figuras/Figura_6.png'> \n",
    "\n",
    "\n",
    "<p style='margin: 30px 30px;'>    \n",
    "\n",
    "<hr>\n",
    "\n",
    "\n",
    " <img width='600px' src='figuras/Figura_7.png'> \n",
    "\n",
    "\n",
    "<p style='margin: 30px 30px;'>        \n",
    "    \n",
    "    \n",
    " <hr>   \n",
    "    \n",
    "\n",
    "  \n",
    " <img width='600px' src='figuras/Figura_10.png'> \n",
    "\n",
    "\n",
    "<p style='margin: 30px 30px;'>       \n",
    "  \n",
    "<hr>        "
   ]
  },
  {
   "cell_type": "markdown",
   "metadata": {},
   "source": [
    "\n",
    "# <font color = 'purple'> Teste de significância estatística usando o <b>t<b>    </font>\n",
    "\n",
    "\n",
    "<p style='margin: 30px 30px;'>\n",
    "    \n",
    "<hr style = 'border: 1px solid purple;'>\n",
    "\n",
    "\n",
    "\n"
   ]
  },
  {
   "cell_type": "markdown",
   "metadata": {},
   "source": [
    "<hr>\n",
    "<img width='600px' src='figuras/Figura_11.png'> \n",
    "\n",
    "\n",
    "<hr>\n",
    "  <p style='margin: 30px 30px;'>     \n",
    "<img width='900px' src='figuras/Figura_8.png'> \n",
    "\n",
    "\n",
    "<hr>\n",
    "\n"
   ]
  },
  {
   "cell_type": "markdown",
   "metadata": {},
   "source": [
    "<p style='margin: 150px 150px;'>     \n",
    "<img width='1000px' src='figuras/Figura_20.png'\n",
    "\n",
    "\n",
    "\n",
    "<hr>\n",
    "<p style='margin: 150px 150px;'>    "
   ]
  },
  {
   "cell_type": "code",
   "execution_count": 36,
   "metadata": {},
   "outputs": [],
   "source": [
    "tvalues = modelo.tvalues"
   ]
  },
  {
   "cell_type": "code",
   "execution_count": 37,
   "metadata": {},
   "outputs": [
    {
     "data": {
      "text/plain": [
       "Intercept            43.494275\n",
       "farinha              10.708252\n",
       "chocolate             4.233495\n",
       "farinha:chocolate     1.743204\n",
       "dtype: float64"
      ]
     },
     "execution_count": 37,
     "metadata": {},
     "output_type": "execute_result"
    }
   ],
   "source": [
    "tvalues"
   ]
  },
  {
   "cell_type": "code",
   "execution_count": 38,
   "metadata": {},
   "outputs": [],
   "source": [
    "nomes = ['Intercepto','Farinha','Chocolate','Farinha:Chocolate']"
   ]
  },
  {
   "cell_type": "code",
   "execution_count": 39,
   "metadata": {},
   "outputs": [
    {
     "data": {
      "text/plain": [
       "['Intercepto', 'Farinha', 'Chocolate', 'Farinha:Chocolate']"
      ]
     },
     "execution_count": 39,
     "metadata": {},
     "output_type": "execute_result"
    }
   ],
   "source": [
    "nomes"
   ]
  },
  {
   "cell_type": "markdown",
   "metadata": {},
   "source": [
    "### ."
   ]
  },
  {
   "cell_type": "code",
   "execution_count": 55,
   "metadata": {},
   "outputs": [],
   "source": [
    "from scipy import stats"
   ]
  },
  {
   "cell_type": "markdown",
   "metadata": {},
   "source": [
    "### .\n"
   ]
  },
  {
   "cell_type": "code",
   "execution_count": 56,
   "metadata": {},
   "outputs": [],
   "source": [
    "dist_t = stats.t(df = 4)"
   ]
  },
  {
   "cell_type": "code",
   "execution_count": 57,
   "metadata": {},
   "outputs": [
    {
     "data": {
      "text/plain": [
       "2.7764451051977987"
      ]
     },
     "execution_count": 57,
     "metadata": {},
     "output_type": "execute_result"
    }
   ],
   "source": [
    "dist_t.ppf(q = 1 - 0.025)"
   ]
  },
  {
   "cell_type": "code",
   "execution_count": 58,
   "metadata": {},
   "outputs": [],
   "source": [
    "limite = [dist_t.ppf(q = 1 - 0.025)]*len(nomes)"
   ]
  },
  {
   "cell_type": "code",
   "execution_count": 59,
   "metadata": {},
   "outputs": [
    {
     "data": {
      "text/plain": [
       "[2.7764451051977987,\n",
       " 2.7764451051977987,\n",
       " 2.7764451051977987,\n",
       " 2.7764451051977987]"
      ]
     },
     "execution_count": 59,
     "metadata": {},
     "output_type": "execute_result"
    }
   ],
   "source": [
    "limite"
   ]
  },
  {
   "cell_type": "markdown",
   "metadata": {},
   "source": [
    "### Plotando o gráfico "
   ]
  },
  {
   "cell_type": "code",
   "execution_count": 63,
   "metadata": {},
   "outputs": [
    {
     "data": {
      "text/plain": [
       "[<matplotlib.lines.Line2D at 0x2078a070370>]"
      ]
     },
     "execution_count": 63,
     "metadata": {},
     "output_type": "execute_result"
    },
    {
     "data": {
      "image/png": "[encoded data removed]",
      "text/plain": [
       "<Figure size 900x400 with 1 Axes>"
      ]
     },
     "metadata": {},
     "output_type": "display_data"
    }
   ],
   "source": [
    "fig = plt.figure(figsize=(9,4))\n",
    "ax = sns.barplot(x = tvalues, y = nomes)\n",
    "ax.tick_params(labelsize=15)\n",
    "ax.set_xlabel('Valores de t', fontsize=14)\n",
    "ax.set_title('Grafico de Pareto', fontsize=18)\n",
    "\n",
    "ax.plot(limite, nomes, color='r')"
   ]
  },
  {
   "cell_type": "markdown",
   "metadata": {},
   "source": [
    "# <font color = 'purple'> Propondo um novo modelo   </font>\n",
    "\n",
    "\n",
    "<p style='margin: 30px 30px;'>\n",
    "    \n",
    "<hr style = 'border: 1px solid purple;'>\n"
   ]
  },
  {
   "cell_type": "markdown",
   "metadata": {},
   "source": [
    "<hr>\n",
    "\n",
    "<img width='800px' src='figuras/Figura_3.png'>\n",
    "\n",
    "<p style='margin: 30px 30px;'> \n",
    "\n",
    "<hr>"
   ]
  },
  {
   "cell_type": "markdown",
   "metadata": {},
   "source": [
    "<p style='margin: 200px 200px;'>\n",
    "\n",
    "\n",
    "<hr>\n",
    "\n",
    "<img width='600px' src='figuras/Figura_9.png'> \n",
    "\n",
    "<p style='font-size: 18px; line-height: 2; margin: 0px 0px; text-align: justify; text-indent: 0px;'>\n",
    "\n",
    "\n",
    "<p style='margin: 30px 30px;'>\n",
    "\n",
    "    \n",
    "<hr>    \n"
   ]
  },
  {
   "cell_type": "code",
   "execution_count": 65,
   "metadata": {},
   "outputs": [],
   "source": [
    "modelo_2 = smf.ols(data = df, formula = 'porcoes ~ farinha + chocolate')"
   ]
  },
  {
   "cell_type": "code",
   "execution_count": 66,
   "metadata": {},
   "outputs": [],
   "source": [
    "modelo_2 = modelo_2.fit()"
   ]
  },
  {
   "cell_type": "code",
   "execution_count": 67,
   "metadata": {},
   "outputs": [
    {
     "name": "stderr",
     "output_type": "stream",
     "text": [
      "C:\\Users\\olive\\anaconda3\\lib\\site-packages\\scipy\\stats\\_stats_py.py:1769: UserWarning: kurtosistest only valid for n>=20 ... continuing anyway, n=8\n",
      "  warnings.warn(\"kurtosistest only valid for n>=20 ... continuing \"\n"
     ]
    },
    {
     "data": {
      "text/html": [
       "<table class=\"simpletable\">\n",
       "<caption>OLS Regression Results</caption>\n",
       "<tr>\n",
       "  <th>Dep. Variable:</th>         <td>porcoes</td>     <th>  R-squared:         </th> <td>   0.950</td>\n",
       "</tr>\n",
       "<tr>\n",
       "  <th>Model:</th>                   <td>OLS</td>       <th>  Adj. R-squared:    </th> <td>   0.929</td>\n",
       "</tr>\n",
       "<tr>\n",
       "  <th>Method:</th>             <td>Least Squares</td>  <th>  F-statistic:       </th> <td>   47.09</td>\n",
       "</tr>\n",
       "<tr>\n",
       "  <th>Date:</th>             <td>Tue, 18 Jul 2023</td> <th>  Prob (F-statistic):</th> <td>0.000571</td>\n",
       "</tr>\n",
       "<tr>\n",
       "  <th>Time:</th>                 <td>17:53:21</td>     <th>  Log-Likelihood:    </th> <td> -16.416</td>\n",
       "</tr>\n",
       "<tr>\n",
       "  <th>No. Observations:</th>      <td>     8</td>      <th>  AIC:               </th> <td>   38.83</td>\n",
       "</tr>\n",
       "<tr>\n",
       "  <th>Df Residuals:</th>          <td>     5</td>      <th>  BIC:               </th> <td>   39.07</td>\n",
       "</tr>\n",
       "<tr>\n",
       "  <th>Df Model:</th>              <td>     2</td>      <th>                     </th>     <td> </td>   \n",
       "</tr>\n",
       "<tr>\n",
       "  <th>Covariance Type:</th>      <td>nonrobust</td>    <th>                     </th>     <td> </td>   \n",
       "</tr>\n",
       "</table>\n",
       "<table class=\"simpletable\">\n",
       "<tr>\n",
       "      <td></td>         <th>coef</th>     <th>std err</th>      <th>t</th>      <th>P>|t|</th>  <th>[0.025</th>    <th>0.975]</th>  \n",
       "</tr>\n",
       "<tr>\n",
       "  <th>Intercept</th> <td>   30.8750</td> <td>    0.842</td> <td>   36.658</td> <td> 0.000</td> <td>   28.710</td> <td>   33.040</td>\n",
       "</tr>\n",
       "<tr>\n",
       "  <th>farinha</th>   <td>   10.7500</td> <td>    1.191</td> <td>    9.025</td> <td> 0.000</td> <td>    7.688</td> <td>   13.812</td>\n",
       "</tr>\n",
       "<tr>\n",
       "  <th>chocolate</th> <td>    4.2500</td> <td>    1.191</td> <td>    3.568</td> <td> 0.016</td> <td>    1.188</td> <td>    7.312</td>\n",
       "</tr>\n",
       "</table>\n",
       "<table class=\"simpletable\">\n",
       "<tr>\n",
       "  <th>Omnibus:</th>       <td> 2.106</td> <th>  Durbin-Watson:     </th> <td>   1.850</td>\n",
       "</tr>\n",
       "<tr>\n",
       "  <th>Prob(Omnibus):</th> <td> 0.349</td> <th>  Jarque-Bera (JB):  </th> <td>   1.245</td>\n",
       "</tr>\n",
       "<tr>\n",
       "  <th>Skew:</th>          <td> 0.868</td> <th>  Prob(JB):          </th> <td>   0.537</td>\n",
       "</tr>\n",
       "<tr>\n",
       "  <th>Kurtosis:</th>      <td> 2.153</td> <th>  Cond. No.          </th> <td>    1.41</td>\n",
       "</tr>\n",
       "</table><br/><br/>Notes:<br/>[1] Standard Errors assume that the covariance matrix of the errors is correctly specified."
      ],
      "text/plain": [
       "<class 'statsmodels.iolib.summary.Summary'>\n",
       "\"\"\"\n",
       "                            OLS Regression Results                            \n",
       "==============================================================================\n",
       "Dep. Variable:                porcoes   R-squared:                       0.950\n",
       "Model:                            OLS   Adj. R-squared:                  0.929\n",
       "Method:                 Least Squares   F-statistic:                     47.09\n",
       "Date:                Tue, 18 Jul 2023   Prob (F-statistic):           0.000571\n",
       "Time:                        17:53:21   Log-Likelihood:                -16.416\n",
       "No. Observations:                   8   AIC:                             38.83\n",
       "Df Residuals:                       5   BIC:                             39.07\n",
       "Df Model:                           2                                         \n",
       "Covariance Type:            nonrobust                                         \n",
       "==============================================================================\n",
       "                 coef    std err          t      P>|t|      [0.025      0.975]\n",
       "------------------------------------------------------------------------------\n",
       "Intercept     30.8750      0.842     36.658      0.000      28.710      33.040\n",
       "farinha       10.7500      1.191      9.025      0.000       7.688      13.812\n",
       "chocolate      4.2500      1.191      3.568      0.016       1.188       7.312\n",
       "==============================================================================\n",
       "Omnibus:                        2.106   Durbin-Watson:                   1.850\n",
       "Prob(Omnibus):                  0.349   Jarque-Bera (JB):                1.245\n",
       "Skew:                           0.868   Prob(JB):                        0.537\n",
       "Kurtosis:                       2.153   Cond. No.                         1.41\n",
       "==============================================================================\n",
       "\n",
       "Notes:\n",
       "[1] Standard Errors assume that the covariance matrix of the errors is correctly specified.\n",
       "\"\"\""
      ]
     },
     "execution_count": 67,
     "metadata": {},
     "output_type": "execute_result"
    }
   ],
   "source": [
    "modelo_2.summary()"
   ]
  },
  {
   "cell_type": "markdown",
   "metadata": {},
   "source": [
    "<hr>"
   ]
  },
  {
   "cell_type": "markdown",
   "metadata": {},
   "source": [
    "# <font color = 'purple'> Gráfico Padronizado de Pareto do novo modelo    </font>\n",
    "\n",
    "\n",
    "<p style='margin: 30px 30px;'>\n",
    "    \n",
    "<hr style = 'border: 1px solid purple;'>\n"
   ]
  },
  {
   "cell_type": "code",
   "execution_count": 69,
   "metadata": {},
   "outputs": [],
   "source": [
    "tvalues_2 = modelo_2.tvalues"
   ]
  },
  {
   "cell_type": "code",
   "execution_count": 70,
   "metadata": {},
   "outputs": [],
   "source": [
    "nomes = ['Intercepto','Farinha','Chocolate']"
   ]
  },
  {
   "cell_type": "code",
   "execution_count": 71,
   "metadata": {},
   "outputs": [],
   "source": [
    "dist_t = stats.t(df = 5)"
   ]
  },
  {
   "cell_type": "code",
   "execution_count": 72,
   "metadata": {},
   "outputs": [
    {
     "data": {
      "text/plain": [
       "2.5705818366147395"
      ]
     },
     "execution_count": 72,
     "metadata": {},
     "output_type": "execute_result"
    }
   ],
   "source": [
    "dist_t.ppf(q = 1 - 0.025)"
   ]
  },
  {
   "cell_type": "code",
   "execution_count": 73,
   "metadata": {},
   "outputs": [],
   "source": [
    "limite = [dist_t.ppf(q = 1 - 0.025)]*len(nomes)"
   ]
  },
  {
   "cell_type": "markdown",
   "metadata": {},
   "source": [
    "### Plotando o gráfico"
   ]
  },
  {
   "cell_type": "code",
   "execution_count": 74,
   "metadata": {},
   "outputs": [
    {
     "data": {
      "text/plain": [
       "[<matplotlib.lines.Line2D at 0x2078a0c74c0>]"
      ]
     },
     "execution_count": 74,
     "metadata": {},
     "output_type": "execute_result"
    },
    {
     "data": {
      "image/png": "[encoded data removed]",
      "text/plain": [
       "<Figure size 900x400 with 1 Axes>"
      ]
     },
     "metadata": {},
     "output_type": "display_data"
    }
   ],
   "source": [
    "fig = plt.figure(figsize=(9,4))\n",
    "ax = sns.barplot(x = tvalues_2, y = nomes)\n",
    "ax.tick_params(labelsize=15)\n",
    "ax.set_xlabel('Valores de t', fontsize=14)\n",
    "ax.set_title('Grafico de Pareto', fontsize=18)\n",
    "\n",
    "ax.plot(limite, nomes, color='r')"
   ]
  },
  {
   "cell_type": "markdown",
   "metadata": {},
   "source": [
    "<font color='red' style='font-size: 30px;'> Preditos por observados  </font>\n",
    "<hr style='border: 2px solid red;'>"
   ]
  },
  {
   "cell_type": "code",
   "execution_count": 75,
   "metadata": {},
   "outputs": [],
   "source": [
    "observados = df['porcoes']"
   ]
  },
  {
   "cell_type": "code",
   "execution_count": 76,
   "metadata": {},
   "outputs": [
    {
     "data": {
      "text/plain": [
       "0    19\n",
       "1    37\n",
       "2    24\n",
       "3    49\n",
       "4    29\n",
       "5    30\n",
       "6    29\n",
       "7    30\n",
       "Name: porcoes, dtype: int64"
      ]
     },
     "execution_count": 76,
     "metadata": {},
     "output_type": "execute_result"
    }
   ],
   "source": [
    "observados"
   ]
  },
  {
   "cell_type": "markdown",
   "metadata": {},
   "source": [
    "### ."
   ]
  },
  {
   "cell_type": "code",
   "execution_count": 77,
   "metadata": {},
   "outputs": [],
   "source": [
    "preditos = modelo_2.predict()"
   ]
  },
  {
   "cell_type": "code",
   "execution_count": 78,
   "metadata": {},
   "outputs": [
    {
     "data": {
      "text/plain": [
       "array([15.875, 37.375, 24.375, 45.875, 30.875, 30.875, 30.875, 30.875])"
      ]
     },
     "execution_count": 78,
     "metadata": {},
     "output_type": "execute_result"
    }
   ],
   "source": [
    "preditos"
   ]
  },
  {
   "cell_type": "markdown",
   "metadata": {},
   "source": [
    "### ."
   ]
  },
  {
   "cell_type": "code",
   "execution_count": 88,
   "metadata": {},
   "outputs": [
    {
     "data": {
      "text/plain": [
       "<matplotlib.collections.PathCollection at 0x2078bb39fd0>"
      ]
     },
     "execution_count": 88,
     "metadata": {},
     "output_type": "execute_result"
    },
    {
     "data": {
      "image/png": "[encoded data removed]",
      "text/plain": [
       "<Figure size 900x400 with 1 Axes>"
      ]
     },
     "metadata": {},
     "output_type": "display_data"
    }
   ],
   "source": [
    "plt.figure(figsize=(9,4))\n",
    "plt.title('Previsão X Observação')\n",
    "plt.xlabel('Preditos')\n",
    "plt.ylabel('Observados')\n",
    "\n",
    "#linha guia\n",
    "x = np.linspace(start=15, stop=50, num = 10)\n",
    "y = np.linspace(start=15, stop = 50, num = 10)\n",
    "plt.plot(x,y, color = 'red')\n",
    "\n",
    "#comparação\n",
    "plt.scatter(preditos, observados)"
   ]
  },
  {
   "cell_type": "markdown",
   "metadata": {},
   "source": [
    "<hr>"
   ]
  },
  {
   "cell_type": "code",
   "execution_count": 89,
   "metadata": {},
   "outputs": [
    {
     "name": "stderr",
     "output_type": "stream",
     "text": [
      "C:\\Users\\olive\\anaconda3\\lib\\site-packages\\scipy\\stats\\_stats_py.py:1769: UserWarning: kurtosistest only valid for n>=20 ... continuing anyway, n=8\n",
      "  warnings.warn(\"kurtosistest only valid for n>=20 ... continuing \"\n"
     ]
    },
    {
     "data": {
      "text/html": [
       "<table class=\"simpletable\">\n",
       "<caption>OLS Regression Results</caption>\n",
       "<tr>\n",
       "  <th>Dep. Variable:</th>         <td>porcoes</td>     <th>  R-squared:         </th> <td>   0.950</td>\n",
       "</tr>\n",
       "<tr>\n",
       "  <th>Model:</th>                   <td>OLS</td>       <th>  Adj. R-squared:    </th> <td>   0.929</td>\n",
       "</tr>\n",
       "<tr>\n",
       "  <th>Method:</th>             <td>Least Squares</td>  <th>  F-statistic:       </th> <td>   47.09</td>\n",
       "</tr>\n",
       "<tr>\n",
       "  <th>Date:</th>             <td>Tue, 18 Jul 2023</td> <th>  Prob (F-statistic):</th> <td>0.000571</td>\n",
       "</tr>\n",
       "<tr>\n",
       "  <th>Time:</th>                 <td>18:17:38</td>     <th>  Log-Likelihood:    </th> <td> -16.416</td>\n",
       "</tr>\n",
       "<tr>\n",
       "  <th>No. Observations:</th>      <td>     8</td>      <th>  AIC:               </th> <td>   38.83</td>\n",
       "</tr>\n",
       "<tr>\n",
       "  <th>Df Residuals:</th>          <td>     5</td>      <th>  BIC:               </th> <td>   39.07</td>\n",
       "</tr>\n",
       "<tr>\n",
       "  <th>Df Model:</th>              <td>     2</td>      <th>                     </th>     <td> </td>   \n",
       "</tr>\n",
       "<tr>\n",
       "  <th>Covariance Type:</th>      <td>nonrobust</td>    <th>                     </th>     <td> </td>   \n",
       "</tr>\n",
       "</table>\n",
       "<table class=\"simpletable\">\n",
       "<tr>\n",
       "      <td></td>         <th>coef</th>     <th>std err</th>      <th>t</th>      <th>P>|t|</th>  <th>[0.025</th>    <th>0.975]</th>  \n",
       "</tr>\n",
       "<tr>\n",
       "  <th>Intercept</th> <td>   30.8750</td> <td>    0.842</td> <td>   36.658</td> <td> 0.000</td> <td>   28.710</td> <td>   33.040</td>\n",
       "</tr>\n",
       "<tr>\n",
       "  <th>farinha</th>   <td>   10.7500</td> <td>    1.191</td> <td>    9.025</td> <td> 0.000</td> <td>    7.688</td> <td>   13.812</td>\n",
       "</tr>\n",
       "<tr>\n",
       "  <th>chocolate</th> <td>    4.2500</td> <td>    1.191</td> <td>    3.568</td> <td> 0.016</td> <td>    1.188</td> <td>    7.312</td>\n",
       "</tr>\n",
       "</table>\n",
       "<table class=\"simpletable\">\n",
       "<tr>\n",
       "  <th>Omnibus:</th>       <td> 2.106</td> <th>  Durbin-Watson:     </th> <td>   1.850</td>\n",
       "</tr>\n",
       "<tr>\n",
       "  <th>Prob(Omnibus):</th> <td> 0.349</td> <th>  Jarque-Bera (JB):  </th> <td>   1.245</td>\n",
       "</tr>\n",
       "<tr>\n",
       "  <th>Skew:</th>          <td> 0.868</td> <th>  Prob(JB):          </th> <td>   0.537</td>\n",
       "</tr>\n",
       "<tr>\n",
       "  <th>Kurtosis:</th>      <td> 2.153</td> <th>  Cond. No.          </th> <td>    1.41</td>\n",
       "</tr>\n",
       "</table><br/><br/>Notes:<br/>[1] Standard Errors assume that the covariance matrix of the errors is correctly specified."
      ],
      "text/plain": [
       "<class 'statsmodels.iolib.summary.Summary'>\n",
       "\"\"\"\n",
       "                            OLS Regression Results                            \n",
       "==============================================================================\n",
       "Dep. Variable:                porcoes   R-squared:                       0.950\n",
       "Model:                            OLS   Adj. R-squared:                  0.929\n",
       "Method:                 Least Squares   F-statistic:                     47.09\n",
       "Date:                Tue, 18 Jul 2023   Prob (F-statistic):           0.000571\n",
       "Time:                        18:17:38   Log-Likelihood:                -16.416\n",
       "No. Observations:                   8   AIC:                             38.83\n",
       "Df Residuals:                       5   BIC:                             39.07\n",
       "Df Model:                           2                                         \n",
       "Covariance Type:            nonrobust                                         \n",
       "==============================================================================\n",
       "                 coef    std err          t      P>|t|      [0.025      0.975]\n",
       "------------------------------------------------------------------------------\n",
       "Intercept     30.8750      0.842     36.658      0.000      28.710      33.040\n",
       "farinha       10.7500      1.191      9.025      0.000       7.688      13.812\n",
       "chocolate      4.2500      1.191      3.568      0.016       1.188       7.312\n",
       "==============================================================================\n",
       "Omnibus:                        2.106   Durbin-Watson:                   1.850\n",
       "Prob(Omnibus):                  0.349   Jarque-Bera (JB):                1.245\n",
       "Skew:                           0.868   Prob(JB):                        0.537\n",
       "Kurtosis:                       2.153   Cond. No.                         1.41\n",
       "==============================================================================\n",
       "\n",
       "Notes:\n",
       "[1] Standard Errors assume that the covariance matrix of the errors is correctly specified.\n",
       "\"\"\""
      ]
     },
     "execution_count": 89,
     "metadata": {},
     "output_type": "execute_result"
    }
   ],
   "source": [
    "modelo_2.summary()"
   ]
  },
  {
   "cell_type": "markdown",
   "metadata": {},
   "source": [
    "### ."
   ]
  },
  {
   "cell_type": "markdown",
   "metadata": {},
   "source": [
    "# <font color = 'purple'> Explorando o modelo   </font>\n",
    "\n",
    "\n",
    "<p style='margin: 30px 30px;'>\n",
    "    \n",
    "<hr style = 'border: 1px solid purple;'>"
   ]
  },
  {
   "cell_type": "code",
   "execution_count": 90,
   "metadata": {},
   "outputs": [],
   "source": [
    "parametros = modelo_2.params"
   ]
  },
  {
   "cell_type": "code",
   "execution_count": 91,
   "metadata": {},
   "outputs": [
    {
     "data": {
      "text/plain": [
       "Intercept    30.875\n",
       "farinha      10.750\n",
       "chocolate     4.250\n",
       "dtype: float64"
      ]
     },
     "execution_count": 91,
     "metadata": {},
     "output_type": "execute_result"
    }
   ],
   "source": [
    "parametros"
   ]
  },
  {
   "cell_type": "markdown",
   "metadata": {},
   "source": [
    "### ."
   ]
  },
  {
   "cell_type": "markdown",
   "metadata": {},
   "source": [
    "### Definindo a função"
   ]
  },
  {
   "cell_type": "code",
   "execution_count": 92,
   "metadata": {},
   "outputs": [],
   "source": [
    "def modelo_receita(xf, xc):\n",
    "    porcoes = parametros['Intercept'] + (parametros['farinha']*xf) + (parametros['chocolate']*xc)\n",
    "    return round(porcoes)"
   ]
  },
  {
   "cell_type": "code",
   "execution_count": 93,
   "metadata": {},
   "outputs": [
    {
     "data": {
      "text/plain": [
       "16"
      ]
     },
     "execution_count": 93,
     "metadata": {},
     "output_type": "execute_result"
    }
   ],
   "source": [
    "modelo_receita(-1,-1)"
   ]
  },
  {
   "cell_type": "code",
   "execution_count": 94,
   "metadata": {},
   "outputs": [],
   "source": [
    "def modelo_receita(xf, xc):\n",
    "    \n",
    "    limite_normalizado = [-1,1]\n",
    "    limite_farinha = [0.5,1.5]\n",
    "    limite_choco = [0.1,0.5]\n",
    "    \n",
    "    xfconvertido = np.interp(xf, limite_farinha, limite_normalizado)\n",
    "    xcconvertido = np.interp(xc, limite_choco, limite_normalizado)\n",
    "    \n",
    "    porcoes = parametros['Intercept'] + (parametros['farinha']*xfconvertido) + (parametros['chocolate']*xcconvertido)\n",
    "    return round(porcoes)"
   ]
  },
  {
   "cell_type": "code",
   "execution_count": 95,
   "metadata": {},
   "outputs": [
    {
     "data": {
      "text/plain": [
       "46"
      ]
     },
     "execution_count": 95,
     "metadata": {},
     "output_type": "execute_result"
    }
   ],
   "source": [
    "modelo_receita(1.5,0.5)"
   ]
  },
  {
   "cell_type": "code",
   "execution_count": 96,
   "metadata": {},
   "outputs": [
    {
     "data": {
      "text/plain": [
       "35"
      ]
     },
     "execution_count": 96,
     "metadata": {},
     "output_type": "execute_result"
    }
   ],
   "source": [
    "modelo_receita(1,0.5)"
   ]
  },
  {
   "cell_type": "markdown",
   "metadata": {},
   "source": [
    "\n",
    "<p style='margin: 150px 150px;'>\n",
    "\n",
    "\n",
    "<hr>\n",
    "\n",
    "<img width='700px' src='figuras/Figura_22.png'> \n",
    "\n",
    "\n",
    "<hr>"
   ]
  },
  {
   "cell_type": "markdown",
   "metadata": {},
   "source": [
    "# <font color = 'purple'> Mapa de cores   </font>\n",
    "\n",
    "\n",
    "<p style='margin: 30px 30px;'>\n",
    "    \n",
    "<hr style = 'border: 1px solid purple;'>"
   ]
  },
  {
   "cell_type": "markdown",
   "metadata": {},
   "source": [
    "\n",
    "<p style='margin: 150px 150px;'>\n",
    "\n",
    "\n",
    "<hr>\n",
    "\n",
    "<img width='700px' src='figuras/Figura_23.jpg'> \n",
    "\n",
    "#### Fonte: National Centers for Environmental Prediction\n",
    "\n",
    "\n",
    "<hr>\n",
    "\n",
    "\n",
    "\n",
    "<p style='margin: 50px 50px;'>\n"
   ]
  },
  {
   "cell_type": "markdown",
   "metadata": {},
   "source": [
    "\n",
    "\n",
    "<p style='margin: 150px 150px;'>\n",
    "\n",
    "\n",
    "<hr>\n",
    "\n",
    "<img width='600px' src='figuras/Figura_24.png'> \n",
    "\n",
    "\n",
    "<hr>\n",
    "\n",
    "\n",
    "\n",
    "<p style='margin: 30px 30px;'>"
   ]
  },
  {
   "cell_type": "code",
   "execution_count": 99,
   "metadata": {},
   "outputs": [
    {
     "data": {
      "text/plain": [
       "array([0.5       , 0.61111111, 0.72222222, 0.83333333, 0.94444444,\n",
       "       1.05555556, 1.16666667, 1.27777778, 1.38888889, 1.5       ])"
      ]
     },
     "execution_count": 99,
     "metadata": {},
     "output_type": "execute_result"
    }
   ],
   "source": [
    "xFarinha = np.linspace(start=0.5, stop=1.5, num=10)\n",
    "xFarinha"
   ]
  },
  {
   "cell_type": "code",
   "execution_count": 100,
   "metadata": {},
   "outputs": [
    {
     "data": {
      "text/plain": [
       "array([0.1       , 0.14444444, 0.18888889, 0.23333333, 0.27777778,\n",
       "       0.32222222, 0.36666667, 0.41111111, 0.45555556, 0.5       ])"
      ]
     },
     "execution_count": 100,
     "metadata": {},
     "output_type": "execute_result"
    }
   ],
   "source": [
    "xChoco = np.linspace(start=0.1, stop=0.5, num=10)\n",
    "xChoco"
   ]
  },
  {
   "cell_type": "markdown",
   "metadata": {},
   "source": [
    "### . "
   ]
  },
  {
   "cell_type": "code",
   "execution_count": 115,
   "metadata": {},
   "outputs": [],
   "source": [
    "pontos = []\n",
    "\n",
    "for cont1 in xFarinha:\n",
    "    \n",
    "    temp = []\n",
    "    \n",
    "    for cont2 in xChoco:\n",
    "        \n",
    "        temp.append(modelo_receita(cont1,cont2))\n",
    "    \n",
    "pontos.append(temp)"
   ]
  },
  {
   "cell_type": "code",
   "execution_count": 102,
   "metadata": {},
   "outputs": [
    {
     "data": {
      "text/plain": [
       "[[16, 17, 18, 19, 20, 21, 22, 22, 23, 24],\n",
       " [16, 17, 18, 19, 20, 21, 22, 22, 23, 24],\n",
       " [16, 17, 18, 19, 20, 21, 22, 22, 23, 24],\n",
       " [16, 17, 18, 19, 20, 21, 22, 22, 23, 24],\n",
       " [16, 17, 18, 19, 20, 21, 22, 22, 23, 24],\n",
       " [16, 17, 18, 19, 20, 21, 22, 22, 23, 24],\n",
       " [16, 17, 18, 19, 20, 21, 22, 22, 23, 24],\n",
       " [16, 17, 18, 19, 20, 21, 22, 22, 23, 24],\n",
       " [16, 17, 18, 19, 20, 21, 22, 22, 23, 24],\n",
       " [16, 17, 18, 19, 20, 21, 22, 22, 23, 24],\n",
       " [18, 19, 20, 21, 22, 23, 24, 25, 26, 27],\n",
       " [18, 19, 20, 21, 22, 23, 24, 25, 26, 27],\n",
       " [18, 19, 20, 21, 22, 23, 24, 25, 26, 27],\n",
       " [18, 19, 20, 21, 22, 23, 24, 25, 26, 27],\n",
       " [18, 19, 20, 21, 22, 23, 24, 25, 26, 27],\n",
       " [18, 19, 20, 21, 22, 23, 24, 25, 26, 27],\n",
       " [18, 19, 20, 21, 22, 23, 24, 25, 26, 27],\n",
       " [18, 19, 20, 21, 22, 23, 24, 25, 26, 27],\n",
       " [18, 19, 20, 21, 22, 23, 24, 25, 26, 27],\n",
       " [18, 19, 20, 21, 22, 23, 24, 25, 26, 27],\n",
       " [21, 22, 23, 23, 24, 25, 26, 27, 28, 29],\n",
       " [21, 22, 23, 23, 24, 25, 26, 27, 28, 29],\n",
       " [21, 22, 23, 23, 24, 25, 26, 27, 28, 29],\n",
       " [21, 22, 23, 23, 24, 25, 26, 27, 28, 29],\n",
       " [21, 22, 23, 23, 24, 25, 26, 27, 28, 29],\n",
       " [21, 22, 23, 23, 24, 25, 26, 27, 28, 29],\n",
       " [21, 22, 23, 23, 24, 25, 26, 27, 28, 29],\n",
       " [21, 22, 23, 23, 24, 25, 26, 27, 28, 29],\n",
       " [21, 22, 23, 23, 24, 25, 26, 27, 28, 29],\n",
       " [21, 22, 23, 23, 24, 25, 26, 27, 28, 29],\n",
       " [23, 24, 25, 26, 27, 28, 29, 30, 31, 32],\n",
       " [23, 24, 25, 26, 27, 28, 29, 30, 31, 32],\n",
       " [23, 24, 25, 26, 27, 28, 29, 30, 31, 32],\n",
       " [23, 24, 25, 26, 27, 28, 29, 30, 31, 32],\n",
       " [23, 24, 25, 26, 27, 28, 29, 30, 31, 32],\n",
       " [23, 24, 25, 26, 27, 28, 29, 30, 31, 32],\n",
       " [23, 24, 25, 26, 27, 28, 29, 30, 31, 32],\n",
       " [23, 24, 25, 26, 27, 28, 29, 30, 31, 32],\n",
       " [23, 24, 25, 26, 27, 28, 29, 30, 31, 32],\n",
       " [23, 24, 25, 26, 27, 28, 29, 30, 31, 32],\n",
       " [25, 26, 27, 28, 29, 30, 31, 32, 33, 34],\n",
       " [25, 26, 27, 28, 29, 30, 31, 32, 33, 34],\n",
       " [25, 26, 27, 28, 29, 30, 31, 32, 33, 34],\n",
       " [25, 26, 27, 28, 29, 30, 31, 32, 33, 34],\n",
       " [25, 26, 27, 28, 29, 30, 31, 32, 33, 34],\n",
       " [25, 26, 27, 28, 29, 30, 31, 32, 33, 34],\n",
       " [25, 26, 27, 28, 29, 30, 31, 32, 33, 34],\n",
       " [25, 26, 27, 28, 29, 30, 31, 32, 33, 34],\n",
       " [25, 26, 27, 28, 29, 30, 31, 32, 33, 34],\n",
       " [25, 26, 27, 28, 29, 30, 31, 32, 33, 34],\n",
       " [28, 29, 30, 31, 32, 33, 33, 34, 35, 36],\n",
       " [28, 29, 30, 31, 32, 33, 33, 34, 35, 36],\n",
       " [28, 29, 30, 31, 32, 33, 33, 34, 35, 36],\n",
       " [28, 29, 30, 31, 32, 33, 33, 34, 35, 36],\n",
       " [28, 29, 30, 31, 32, 33, 33, 34, 35, 36],\n",
       " [28, 29, 30, 31, 32, 33, 33, 34, 35, 36],\n",
       " [28, 29, 30, 31, 32, 33, 33, 34, 35, 36],\n",
       " [28, 29, 30, 31, 32, 33, 33, 34, 35, 36],\n",
       " [28, 29, 30, 31, 32, 33, 33, 34, 35, 36],\n",
       " [28, 29, 30, 31, 32, 33, 33, 34, 35, 36],\n",
       " [30, 31, 32, 33, 34, 35, 36, 37, 38, 39],\n",
       " [30, 31, 32, 33, 34, 35, 36, 37, 38, 39],\n",
       " [30, 31, 32, 33, 34, 35, 36, 37, 38, 39],\n",
       " [30, 31, 32, 33, 34, 35, 36, 37, 38, 39],\n",
       " [30, 31, 32, 33, 34, 35, 36, 37, 38, 39],\n",
       " [30, 31, 32, 33, 34, 35, 36, 37, 38, 39],\n",
       " [30, 31, 32, 33, 34, 35, 36, 37, 38, 39],\n",
       " [30, 31, 32, 33, 34, 35, 36, 37, 38, 39],\n",
       " [30, 31, 32, 33, 34, 35, 36, 37, 38, 39],\n",
       " [30, 31, 32, 33, 34, 35, 36, 37, 38, 39],\n",
       " [33, 34, 34, 35, 36, 37, 38, 39, 40, 41],\n",
       " [33, 34, 34, 35, 36, 37, 38, 39, 40, 41],\n",
       " [33, 34, 34, 35, 36, 37, 38, 39, 40, 41],\n",
       " [33, 34, 34, 35, 36, 37, 38, 39, 40, 41],\n",
       " [33, 34, 34, 35, 36, 37, 38, 39, 40, 41],\n",
       " [33, 34, 34, 35, 36, 37, 38, 39, 40, 41],\n",
       " [33, 34, 34, 35, 36, 37, 38, 39, 40, 41],\n",
       " [33, 34, 34, 35, 36, 37, 38, 39, 40, 41],\n",
       " [33, 34, 34, 35, 36, 37, 38, 39, 40, 41],\n",
       " [33, 34, 34, 35, 36, 37, 38, 39, 40, 41],\n",
       " [35, 36, 37, 38, 39, 40, 41, 42, 43, 43],\n",
       " [35, 36, 37, 38, 39, 40, 41, 42, 43, 43],\n",
       " [35, 36, 37, 38, 39, 40, 41, 42, 43, 43],\n",
       " [35, 36, 37, 38, 39, 40, 41, 42, 43, 43],\n",
       " [35, 36, 37, 38, 39, 40, 41, 42, 43, 43],\n",
       " [35, 36, 37, 38, 39, 40, 41, 42, 43, 43],\n",
       " [35, 36, 37, 38, 39, 40, 41, 42, 43, 43],\n",
       " [35, 36, 37, 38, 39, 40, 41, 42, 43, 43],\n",
       " [35, 36, 37, 38, 39, 40, 41, 42, 43, 43],\n",
       " [35, 36, 37, 38, 39, 40, 41, 42, 43, 43],\n",
       " [37, 38, 39, 40, 41, 42, 43, 44, 45, 46],\n",
       " [37, 38, 39, 40, 41, 42, 43, 44, 45, 46],\n",
       " [37, 38, 39, 40, 41, 42, 43, 44, 45, 46],\n",
       " [37, 38, 39, 40, 41, 42, 43, 44, 45, 46],\n",
       " [37, 38, 39, 40, 41, 42, 43, 44, 45, 46],\n",
       " [37, 38, 39, 40, 41, 42, 43, 44, 45, 46],\n",
       " [37, 38, 39, 40, 41, 42, 43, 44, 45, 46],\n",
       " [37, 38, 39, 40, 41, 42, 43, 44, 45, 46],\n",
       " [37, 38, 39, 40, 41, 42, 43, 44, 45, 46],\n",
       " [37, 38, 39, 40, 41, 42, 43, 44, 45, 46]]"
      ]
     },
     "execution_count": 102,
     "metadata": {},
     "output_type": "execute_result"
    }
   ],
   "source": [
    "pontos"
   ]
  },
  {
   "cell_type": "markdown",
   "metadata": {},
   "source": [
    "### ."
   ]
  },
  {
   "cell_type": "markdown",
   "metadata": {},
   "source": [
    "### Construindo a superfície de resposta"
   ]
  },
  {
   "cell_type": "code",
   "execution_count": 103,
   "metadata": {},
   "outputs": [],
   "source": [
    "import matplotlib.cm as cm"
   ]
  },
  {
   "cell_type": "markdown",
   "metadata": {},
   "source": [
    "https://matplotlib.org/users/colormaps.html"
   ]
  },
  {
   "cell_type": "code",
   "execution_count": 117,
   "metadata": {},
   "outputs": [
    {
     "data": {
      "image/png": "[encoded data removed]",
      "text/plain": [
       "<Figure size 1500x600 with 2 Axes>"
      ]
     },
     "metadata": {},
     "output_type": "display_data"
    }
   ],
   "source": [
    "plt.figure(figsize=(15,6))\n",
    "plt.title('Heatmap', fontsize = 22)\n",
    "plt.xlabel('Farinha (kg)', fontsize=16)\n",
    "plt.ylabel('Chocolate(kg)', fontsize=16)\n",
    "\n",
    "ax = plt.imshow(pontos, cmap= cm.rainbow, interpolation = 'quadric', extent = (0.5,1.5,0.1,0.5), origin = 'lower')\n",
    "\n",
    "plt.colorbar().set_label('Porções', fontsize=16)"
   ]
  }
 ],
 "metadata": {
  "kernelspec": {
   "display_name": "Python 3 (ipykernel)",
   "language": "python",
   "name": "python3"
  },
  "language_info": {
   "codemirror_mode": {
    "name": "ipython",
    "version": 3
   },
   "file_extension": ".py",
   "mimetype": "text/x-python",
   "name": "python",
   "nbconvert_exporter": "python",
   "pygments_lexer": "ipython3",
   "version": "3.9.13"
  }
 },
 "nbformat": 4,
 "nbformat_minor": 2
}
