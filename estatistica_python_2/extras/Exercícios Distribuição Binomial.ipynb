{
 "cells": [
  {
   "cell_type": "markdown",
   "id": "23e606c8",
   "metadata": {},
   "source": [
    "# Cara ou Coroa\n",
    "Uma moeda, perfeitamente equilibrada, é lançada para o alto quatro vezes. Utilizando a distribuição binomial, obtenha a probabilidade de a moeda cair com a face coroa voltada para cima duas vezes."
   ]
  },
  {
   "cell_type": "code",
   "execution_count": 12,
   "id": "b9ece918",
   "metadata": {},
   "outputs": [],
   "source": [
    "from scipy.special import comb\n",
    "from scipy.stats import binom"
   ]
  },
  {
   "cell_type": "code",
   "execution_count": 2,
   "id": "2f526f5a",
   "metadata": {},
   "outputs": [],
   "source": [
    "n = 4 # número de vezes que a moeda será jogada\n",
    "k = 2 # número de vezes que desejamos que a moeda seja coroa \n",
    "p = 1 / 2\n",
    "q = 1 - p"
   ]
  },
  {
   "cell_type": "code",
   "execution_count": 7,
   "id": "a91b4455",
   "metadata": {},
   "outputs": [
    {
     "data": {
      "text/plain": [
       "0.375"
      ]
     },
     "execution_count": 7,
     "metadata": {},
     "output_type": "execute_result"
    }
   ],
   "source": [
    "prob = binom.pmf(k,n,p)\n",
    "prob"
   ]
  },
  {
   "cell_type": "markdown",
   "id": "4c6aaa04",
   "metadata": {},
   "source": [
    "# Dado"
   ]
  },
  {
   "cell_type": "markdown",
   "id": "f2032698",
   "metadata": {},
   "source": [
    "Um dado, perfeitamente equilibrado, é lançado para o alto dez vezes. Utilizando a distribuição binomial, obtenha a probabilidade de o dado cair com o número cinco voltado para cima pelo menos três vezes."
   ]
  },
  {
   "cell_type": "code",
   "execution_count": 14,
   "id": "54f20041",
   "metadata": {},
   "outputs": [],
   "source": [
    "n = 10\n",
    "p = 1 / 6"
   ]
  },
  {
   "cell_type": "code",
   "execution_count": 21,
   "id": "4f24ed8a",
   "metadata": {},
   "outputs": [
    {
     "data": {
      "text/plain": [
       "0.22477320212874055"
      ]
     },
     "execution_count": 21,
     "metadata": {},
     "output_type": "execute_result"
    }
   ],
   "source": [
    "prob = binom.sf(2,n,p)\n",
    "prob"
   ]
  },
  {
   "cell_type": "markdown",
   "id": "583af27e",
   "metadata": {},
   "source": [
    "# Olhos azuis"
   ]
  },
  {
   "cell_type": "markdown",
   "id": "3bbfb247",
   "metadata": {},
   "source": [
    "Suponha que a probabilidade de um casal ter filhos com olhos azuis seja de 22%. Em 50 famílias, com 3 crianças cada uma, quantas podemos esperar que tenham dois filhos com olhos azuis?"
   ]
  },
  {
   "cell_type": "code",
   "execution_count": 22,
   "id": "3e9fe3be",
   "metadata": {},
   "outputs": [],
   "source": [
    "k = 2\n",
    "n = 3\n",
    "p = 0.22"
   ]
  },
  {
   "cell_type": "code",
   "execution_count": 24,
   "id": "38b7dee7",
   "metadata": {},
   "outputs": [
    {
     "data": {
      "text/plain": [
       "0.11325599999999993"
      ]
     },
     "execution_count": 24,
     "metadata": {},
     "output_type": "execute_result"
    }
   ],
   "source": [
    "prob = binom.pmf(k,n,p)\n",
    "prob"
   ]
  },
  {
   "cell_type": "code",
   "execution_count": 25,
   "id": "84c4596b",
   "metadata": {},
   "outputs": [
    {
     "data": {
      "text/plain": [
       "5.662799999999996"
      ]
     },
     "execution_count": 25,
     "metadata": {},
     "output_type": "execute_result"
    }
   ],
   "source": [
    "media = 50 * prob\n",
    "media"
   ]
  }
 ],
 "metadata": {
  "kernelspec": {
   "display_name": "Python 3 (ipykernel)",
   "language": "python",
   "name": "python3"
  },
  "language_info": {
   "codemirror_mode": {
    "name": "ipython",
    "version": 3
   },
   "file_extension": ".py",
   "mimetype": "text/x-python",
   "name": "python",
   "nbconvert_exporter": "python",
   "pygments_lexer": "ipython3",
   "version": "3.9.13"
  }
 },
 "nbformat": 4,
 "nbformat_minor": 5
}
